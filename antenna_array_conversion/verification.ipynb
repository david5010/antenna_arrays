{
 "cells": [
  {
   "cell_type": "code",
   "execution_count": 10,
   "metadata": {},
   "outputs": [],
   "source": [
    "import pandas as pd\n",
    "import numpy as np\n",
    "import matplotlib.pyplot as plt\n",
    "import torch\n",
    "from true_function import *\n",
    "import op_true_func as op\n",
    "import torch_function as t_op"
   ]
  },
  {
   "cell_type": "code",
   "execution_count": 11,
   "metadata": {},
   "outputs": [],
   "source": [
    "Yant0, Zant0 = pd.read_csv('../check_shapes/shape 0/Given Yant0.csv', header= None).values.flatten(), pd.read_csv('../check_shapes/shape 0/Given Zant0.csv', header = None).values.flatten()"
   ]
  },
  {
   "cell_type": "code",
   "execution_count": 12,
   "metadata": {},
   "outputs": [],
   "source": [
    "device = 'cuda' if torch.cuda.is_available() else 'cpu'"
   ]
  },
  {
   "cell_type": "code",
   "execution_count": 13,
   "metadata": {},
   "outputs": [],
   "source": [
    "ParamsArray = t_op.InitializeParamsArray(device = device)"
   ]
  },
  {
   "cell_type": "code",
   "execution_count": 14,
   "metadata": {},
   "outputs": [],
   "source": [
    "# Put Yant0 Zant0 to gpu\n",
    "yant0, zant0 = torch.from_numpy(Yant0).to(device), torch.from_numpy(Zant0).to(device)"
   ]
  },
  {
   "cell_type": "code",
   "execution_count": 16,
   "metadata": {},
   "outputs": [
    {
     "name": "stdout",
     "output_type": "stream",
     "text": [
      "CPU times: user 123 ms, sys: 7.79 ms, total: 131 ms\n",
      "Wall time: 128 ms\n"
     ]
    },
    {
     "data": {
      "text/plain": [
       "-12131.263368819473"
      ]
     },
     "execution_count": 16,
     "metadata": {},
     "output_type": "execute_result"
    }
   ],
   "source": [
    "%time t_op.CostFunArray(yant0, zant0, ParamsArray, device)"
   ]
  },
  {
   "cell_type": "code",
   "execution_count": 6,
   "metadata": {},
   "outputs": [],
   "source": [
    "ParamsArray = InitializeParamsArray()"
   ]
  },
  {
   "cell_type": "code",
   "execution_count": 7,
   "metadata": {},
   "outputs": [
    {
     "data": {
      "text/plain": [
       "-12131.25785906924"
      ]
     },
     "execution_count": 7,
     "metadata": {},
     "output_type": "execute_result"
    }
   ],
   "source": [
    "CostFunArray(Yant0, Zant0, ParamsArray)"
   ]
  },
  {
   "cell_type": "code",
   "execution_count": 3,
   "metadata": {},
   "outputs": [],
   "source": [
    "import op_true_func as op"
   ]
  },
  {
   "cell_type": "code",
   "execution_count": 4,
   "metadata": {},
   "outputs": [
    {
     "ename": "TypingError",
     "evalue": "Failed in nopython mode pipeline (step: nopython frontend)\nNo implementation of function Function(<function concatenate at 0x7f96f422c550>) found for signature:\n \n >>> concatenate(UniTuple(array(float64, 1d, C) x 3), axis=none)\n \nThere are 2 candidate implementations:\n   - Of which 2 did not match due to:\n   Overload in function 'impl_np_concatenate': File: numba/np/arrayobj.py: Line 5694.\n     With argument(s): '(UniTuple(array(float64, 1d, C) x 3), axis=none)':\n    Rejected as the implementation raised a specific error:\n      TypingError: Failed in nopython mode pipeline (step: nopython frontend)\n    No implementation of function Function(<intrinsic np_concatenate>) found for signature:\n     \n     >>> np_concatenate(UniTuple(array(float64, 1d, C) x 3), none)\n     \n    There are 2 candidate implementations:\n          - Of which 2 did not match due to:\n          Intrinsic in function 'np_concatenate': File: numba/np/arrayobj.py: Line 5677.\n            With argument(s): '(UniTuple(array(float64, 1d, C) x 3), none)':\n           Rejected as the implementation raised a specific error:\n             AssertionError: \n      raised from /home/david/anaconda3/envs/ant/lib/python3.9/site-packages/numba/np/arrayobj.py:5680\n    \n    During: resolving callee type: Function(<intrinsic np_concatenate>)\n    During: typing of call at /home/david/anaconda3/envs/ant/lib/python3.9/site-packages/numba/np/arrayobj.py (5698)\n    \n    \n    File \"../../../anaconda3/envs/ant/lib/python3.9/site-packages/numba/np/arrayobj.py\", line 5698:\n            def impl(arrays, axis=0):\n                return np_concatenate(arrays, axis)\n                ^\n\n  raised from /home/david/anaconda3/envs/ant/lib/python3.9/site-packages/numba/core/typeinfer.py:1086\n\nDuring: resolving callee type: Function(<function concatenate at 0x7f96f422c550>)\nDuring: typing of call at /home/david/Desktop/antenna_arrays/antenna_array_conversion/op_true_func.py (22)\n\n\nFile \"op_true_func.py\", line 22:\ndef anaylitic_uy_uz_mapping_quarter(AZ0_max,AZ0_min,EL0_max,EL0_min):\n    <source elided>\n\n    uy_vec=np.concatenate((uy_SEC1_pos.astype(np.float64),uy_SEC2_pos.astype(np.float64),uy_SEC3_pos.astype(np.float64)), axis=None)\n    ^\n",
     "output_type": "error",
     "traceback": [
      "\u001b[0;31m---------------------------------------------------------------------------\u001b[0m",
      "\u001b[0;31mTypingError\u001b[0m                               Traceback (most recent call last)",
      "Cell \u001b[0;32mIn[4], line 1\u001b[0m\n\u001b[0;32m----> 1\u001b[0m PArray \u001b[39m=\u001b[39m op\u001b[39m.\u001b[39;49mInitializeParamsArray()\n",
      "File \u001b[0;32m~/Desktop/antenna_arrays/antenna_array_conversion/op_true_func.py:64\u001b[0m, in \u001b[0;36mInitializeParamsArray\u001b[0;34m(ParamsArray)\u001b[0m\n\u001b[1;32m     62\u001b[0m ParamsArray[\u001b[39m\"\u001b[39m\u001b[39mAZ0_max\u001b[39m\u001b[39m\"\u001b[39m] \u001b[39m=\u001b[39m \u001b[39m20\u001b[39m  \u001b[39m# the maximum scan in azimuth\u001b[39;00m\n\u001b[1;32m     63\u001b[0m ParamsArray[\u001b[39m\"\u001b[39m\u001b[39mAZ0_min\u001b[39m\u001b[39m\"\u001b[39m] \u001b[39m=\u001b[39m \u001b[39m-\u001b[39m\u001b[39m20\u001b[39m  \u001b[39m# the minimum scan in azimuth\u001b[39;00m\n\u001b[0;32m---> 64\u001b[0m uy_norm, uz_norm \u001b[39m=\u001b[39m anaylitic_uy_uz_mapping_quarter(ParamsArray[\u001b[39m\"\u001b[39;49m\u001b[39mAZ0_max\u001b[39;49m\u001b[39m\"\u001b[39;49m], ParamsArray[\u001b[39m\"\u001b[39;49m\u001b[39mAZ0_min\u001b[39;49m\u001b[39m\"\u001b[39;49m], ParamsArray[\u001b[39m\"\u001b[39;49m\u001b[39mEL0_max\u001b[39;49m\u001b[39m\"\u001b[39;49m], ParamsArray[\u001b[39m\"\u001b[39;49m\u001b[39mEL0_min\u001b[39;49m\u001b[39m\"\u001b[39;49m])\n\u001b[1;32m     65\u001b[0m ParamsArray[\u001b[39m\"\u001b[39m\u001b[39muy\u001b[39m\u001b[39m\"\u001b[39m] \u001b[39m=\u001b[39m np\u001b[39m.\u001b[39marray(uy_norm) \u001b[39m*\u001b[39m ParamsArray[\u001b[39m\"\u001b[39m\u001b[39mk\u001b[39m\u001b[39m\"\u001b[39m]\n\u001b[1;32m     66\u001b[0m ParamsArray[\u001b[39m\"\u001b[39m\u001b[39muz\u001b[39m\u001b[39m\"\u001b[39m] \u001b[39m=\u001b[39m np\u001b[39m.\u001b[39marray(uz_norm) \u001b[39m*\u001b[39m ParamsArray[\u001b[39m\"\u001b[39m\u001b[39mk\u001b[39m\u001b[39m\"\u001b[39m]\n",
      "File \u001b[0;32m~/anaconda3/envs/ant/lib/python3.9/site-packages/numba/core/dispatcher.py:468\u001b[0m, in \u001b[0;36m_DispatcherBase._compile_for_args\u001b[0;34m(self, *args, **kws)\u001b[0m\n\u001b[1;32m    464\u001b[0m         msg \u001b[39m=\u001b[39m (\u001b[39mf\u001b[39m\u001b[39m\"\u001b[39m\u001b[39m{\u001b[39;00m\u001b[39mstr\u001b[39m(e)\u001b[39m.\u001b[39mrstrip()\u001b[39m}\u001b[39;00m\u001b[39m \u001b[39m\u001b[39m\\n\u001b[39;00m\u001b[39m\\n\u001b[39;00m\u001b[39mThis error may have been caused \u001b[39m\u001b[39m\"\u001b[39m\n\u001b[1;32m    465\u001b[0m                \u001b[39mf\u001b[39m\u001b[39m\"\u001b[39m\u001b[39mby the following argument(s):\u001b[39m\u001b[39m\\n\u001b[39;00m\u001b[39m{\u001b[39;00margs_str\u001b[39m}\u001b[39;00m\u001b[39m\\n\u001b[39;00m\u001b[39m\"\u001b[39m)\n\u001b[1;32m    466\u001b[0m         e\u001b[39m.\u001b[39mpatch_message(msg)\n\u001b[0;32m--> 468\u001b[0m     error_rewrite(e, \u001b[39m'\u001b[39;49m\u001b[39mtyping\u001b[39;49m\u001b[39m'\u001b[39;49m)\n\u001b[1;32m    469\u001b[0m \u001b[39mexcept\u001b[39;00m errors\u001b[39m.\u001b[39mUnsupportedError \u001b[39mas\u001b[39;00m e:\n\u001b[1;32m    470\u001b[0m     \u001b[39m# Something unsupported is present in the user code, add help info\u001b[39;00m\n\u001b[1;32m    471\u001b[0m     error_rewrite(e, \u001b[39m'\u001b[39m\u001b[39munsupported_error\u001b[39m\u001b[39m'\u001b[39m)\n",
      "File \u001b[0;32m~/anaconda3/envs/ant/lib/python3.9/site-packages/numba/core/dispatcher.py:409\u001b[0m, in \u001b[0;36m_DispatcherBase._compile_for_args.<locals>.error_rewrite\u001b[0;34m(e, issue_type)\u001b[0m\n\u001b[1;32m    407\u001b[0m     \u001b[39mraise\u001b[39;00m e\n\u001b[1;32m    408\u001b[0m \u001b[39melse\u001b[39;00m:\n\u001b[0;32m--> 409\u001b[0m     \u001b[39mraise\u001b[39;00m e\u001b[39m.\u001b[39mwith_traceback(\u001b[39mNone\u001b[39;00m)\n",
      "\u001b[0;31mTypingError\u001b[0m: Failed in nopython mode pipeline (step: nopython frontend)\nNo implementation of function Function(<function concatenate at 0x7f96f422c550>) found for signature:\n \n >>> concatenate(UniTuple(array(float64, 1d, C) x 3), axis=none)\n \nThere are 2 candidate implementations:\n   - Of which 2 did not match due to:\n   Overload in function 'impl_np_concatenate': File: numba/np/arrayobj.py: Line 5694.\n     With argument(s): '(UniTuple(array(float64, 1d, C) x 3), axis=none)':\n    Rejected as the implementation raised a specific error:\n      TypingError: Failed in nopython mode pipeline (step: nopython frontend)\n    No implementation of function Function(<intrinsic np_concatenate>) found for signature:\n     \n     >>> np_concatenate(UniTuple(array(float64, 1d, C) x 3), none)\n     \n    There are 2 candidate implementations:\n          - Of which 2 did not match due to:\n          Intrinsic in function 'np_concatenate': File: numba/np/arrayobj.py: Line 5677.\n            With argument(s): '(UniTuple(array(float64, 1d, C) x 3), none)':\n           Rejected as the implementation raised a specific error:\n             AssertionError: \n      raised from /home/david/anaconda3/envs/ant/lib/python3.9/site-packages/numba/np/arrayobj.py:5680\n    \n    During: resolving callee type: Function(<intrinsic np_concatenate>)\n    During: typing of call at /home/david/anaconda3/envs/ant/lib/python3.9/site-packages/numba/np/arrayobj.py (5698)\n    \n    \n    File \"../../../anaconda3/envs/ant/lib/python3.9/site-packages/numba/np/arrayobj.py\", line 5698:\n            def impl(arrays, axis=0):\n                return np_concatenate(arrays, axis)\n                ^\n\n  raised from /home/david/anaconda3/envs/ant/lib/python3.9/site-packages/numba/core/typeinfer.py:1086\n\nDuring: resolving callee type: Function(<function concatenate at 0x7f96f422c550>)\nDuring: typing of call at /home/david/Desktop/antenna_arrays/antenna_array_conversion/op_true_func.py (22)\n\n\nFile \"op_true_func.py\", line 22:\ndef anaylitic_uy_uz_mapping_quarter(AZ0_max,AZ0_min,EL0_max,EL0_min):\n    <source elided>\n\n    uy_vec=np.concatenate((uy_SEC1_pos.astype(np.float64),uy_SEC2_pos.astype(np.float64),uy_SEC3_pos.astype(np.float64)), axis=None)\n    ^\n"
     ]
    }
   ],
   "source": [
    "PArray = op.InitializeParamsArray()"
   ]
  },
  {
   "cell_type": "code",
   "execution_count": 9,
   "metadata": {},
   "outputs": [
    {
     "ename": "NameError",
     "evalue": "name 'PArray' is not defined",
     "output_type": "error",
     "traceback": [
      "\u001b[0;31m---------------------------------------------------------------------------\u001b[0m",
      "\u001b[0;31mNameError\u001b[0m                                 Traceback (most recent call last)",
      "Cell \u001b[0;32mIn[9], line 1\u001b[0m\n\u001b[0;32m----> 1\u001b[0m op\u001b[39m.\u001b[39mCostFunArray(Yant0, Zant0, PArray)\n",
      "\u001b[0;31mNameError\u001b[0m: name 'PArray' is not defined"
     ]
    }
   ],
   "source": [
    "op.CostFunArray(Yant0, Zant0, PArray)"
   ]
  },
  {
   "cell_type": "code",
   "execution_count": null,
   "metadata": {},
   "outputs": [],
   "source": []
  }
 ],
 "metadata": {
  "kernelspec": {
   "display_name": "torch",
   "language": "python",
   "name": "python3"
  },
  "language_info": {
   "codemirror_mode": {
    "name": "ipython",
    "version": 3
   },
   "file_extension": ".py",
   "mimetype": "text/x-python",
   "name": "python",
   "nbconvert_exporter": "python",
   "pygments_lexer": "ipython3",
   "version": "3.9.17"
  },
  "orig_nbformat": 4
 },
 "nbformat": 4,
 "nbformat_minor": 2
}
