{
 "cells": [
  {
   "cell_type": "code",
   "execution_count": 3,
   "metadata": {},
   "outputs": [
    {
     "data": {
      "text/plain": [
       "<All keys matched successfully>"
      ]
     },
     "execution_count": 3,
     "metadata": {},
     "output_type": "execute_result"
    }
   ],
   "source": [
    "from models.FF_1H import *\n",
    "import torch\n",
    "torch.manual_seed(0)\n",
    "simple_FF = SimpleNN(2048, 1, 8, nn.ReLU)\n",
    "weights = torch.load('simple_ff_weights.pth')\n",
    "simple_FF.load_state_dict(weights)"
   ]
  },
  {
   "cell_type": "code",
   "execution_count": 6,
   "metadata": {},
   "outputs": [],
   "source": [
    "testing_data = pd.read_csv('data/csv/Standardized/Method_Separate/YZantData_test__standardized_S.csv', header= None)\n",
    "inputs = torch.tensor(testing_data.iloc[:, :-1].values, dtype = torch.float32)\n",
    "targets = torch.tensor(testing_data.iloc[:, -1].values, dtype = torch.float32)\n",
    "padding_counts = torch.sum(inputs == 0, dim = 1)"
   ]
  },
  {
   "cell_type": "code",
   "execution_count": 1,
   "metadata": {},
   "outputs": [],
   "source": [
    "import numpy as np"
   ]
  },
  {
   "cell_type": "code",
   "execution_count": 4,
   "metadata": {},
   "outputs": [],
   "source": [
    "data = np.load('data/large/large_YZant.npz')['arr_0']"
   ]
  },
  {
   "cell_type": "code",
   "execution_count": 7,
   "metadata": {},
   "outputs": [
    {
     "data": {
      "text/plain": [
       "array([ 0.        ,  0.        ,  0.        , ...,  0.        ,\n",
       "        0.        , -0.93040047])"
      ]
     },
     "execution_count": 7,
     "metadata": {},
     "output_type": "execute_result"
    }
   ],
   "source": []
  },
  {
   "cell_type": "code",
   "execution_count": null,
   "metadata": {},
   "outputs": [],
   "source": []
  }
 ],
 "metadata": {
  "kernelspec": {
   "display_name": "Python 3.9.16 ('torch')",
   "language": "python",
   "name": "python3"
  },
  "language_info": {
   "codemirror_mode": {
    "name": "ipython",
    "version": 3
   },
   "file_extension": ".py",
   "mimetype": "text/x-python",
   "name": "python",
   "nbconvert_exporter": "python",
   "pygments_lexer": "ipython3",
   "version": "3.9.16"
  },
  "orig_nbformat": 4,
  "vscode": {
   "interpreter": {
    "hash": "9ba32117a522425853f495a8d3e20826e2647e023eb95fff9d9513e406ddf7d2"
   }
  }
 },
 "nbformat": 4,
 "nbformat_minor": 2
}
