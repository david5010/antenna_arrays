{
 "cells": [
  {
   "cell_type": "code",
   "execution_count": 1,
   "metadata": {},
   "outputs": [
    {
     "data": {
      "text/plain": [
       "<torch._C.Generator at 0x7fb5d3d704b0>"
      ]
     },
     "execution_count": 1,
     "metadata": {},
     "output_type": "execute_result"
    }
   ],
   "source": [
    "from models.FF_1H import *\n",
    "import torch\n",
    "from main import *\n",
    "from torch.utils.data import DataLoader\n",
    "from utils.Standard_Norm import *\n",
    "from sklearn.preprocessing import StandardScaler\n",
    "torch.manual_seed(0)"
   ]
  },
  {
   "cell_type": "code",
   "execution_count": 2,
   "metadata": {},
   "outputs": [
    {
     "data": {
      "text/plain": [
       "array([-12131.30566186,   -753.54752103, -30103.19578924, ...,\n",
       "       -16921.3155718 ,  -3201.28804094, -22758.90653479])"
      ]
     },
     "execution_count": 2,
     "metadata": {},
     "output_type": "execute_result"
    }
   ],
   "source": [
    "training = np.load('data/large/YZ_Large_70.npz')['data']\n",
    "training[:,-1]"
   ]
  },
  {
   "cell_type": "code",
   "execution_count": 5,
   "metadata": {},
   "outputs": [
    {
     "data": {
      "text/html": [
       "<style>#sk-container-id-1 {color: black;background-color: white;}#sk-container-id-1 pre{padding: 0;}#sk-container-id-1 div.sk-toggleable {background-color: white;}#sk-container-id-1 label.sk-toggleable__label {cursor: pointer;display: block;width: 100%;margin-bottom: 0;padding: 0.3em;box-sizing: border-box;text-align: center;}#sk-container-id-1 label.sk-toggleable__label-arrow:before {content: \"▸\";float: left;margin-right: 0.25em;color: #696969;}#sk-container-id-1 label.sk-toggleable__label-arrow:hover:before {color: black;}#sk-container-id-1 div.sk-estimator:hover label.sk-toggleable__label-arrow:before {color: black;}#sk-container-id-1 div.sk-toggleable__content {max-height: 0;max-width: 0;overflow: hidden;text-align: left;background-color: #f0f8ff;}#sk-container-id-1 div.sk-toggleable__content pre {margin: 0.2em;color: black;border-radius: 0.25em;background-color: #f0f8ff;}#sk-container-id-1 input.sk-toggleable__control:checked~div.sk-toggleable__content {max-height: 200px;max-width: 100%;overflow: auto;}#sk-container-id-1 input.sk-toggleable__control:checked~label.sk-toggleable__label-arrow:before {content: \"▾\";}#sk-container-id-1 div.sk-estimator input.sk-toggleable__control:checked~label.sk-toggleable__label {background-color: #d4ebff;}#sk-container-id-1 div.sk-label input.sk-toggleable__control:checked~label.sk-toggleable__label {background-color: #d4ebff;}#sk-container-id-1 input.sk-hidden--visually {border: 0;clip: rect(1px 1px 1px 1px);clip: rect(1px, 1px, 1px, 1px);height: 1px;margin: -1px;overflow: hidden;padding: 0;position: absolute;width: 1px;}#sk-container-id-1 div.sk-estimator {font-family: monospace;background-color: #f0f8ff;border: 1px dotted black;border-radius: 0.25em;box-sizing: border-box;margin-bottom: 0.5em;}#sk-container-id-1 div.sk-estimator:hover {background-color: #d4ebff;}#sk-container-id-1 div.sk-parallel-item::after {content: \"\";width: 100%;border-bottom: 1px solid gray;flex-grow: 1;}#sk-container-id-1 div.sk-label:hover label.sk-toggleable__label {background-color: #d4ebff;}#sk-container-id-1 div.sk-serial::before {content: \"\";position: absolute;border-left: 1px solid gray;box-sizing: border-box;top: 0;bottom: 0;left: 50%;z-index: 0;}#sk-container-id-1 div.sk-serial {display: flex;flex-direction: column;align-items: center;background-color: white;padding-right: 0.2em;padding-left: 0.2em;position: relative;}#sk-container-id-1 div.sk-item {position: relative;z-index: 1;}#sk-container-id-1 div.sk-parallel {display: flex;align-items: stretch;justify-content: center;background-color: white;position: relative;}#sk-container-id-1 div.sk-item::before, #sk-container-id-1 div.sk-parallel-item::before {content: \"\";position: absolute;border-left: 1px solid gray;box-sizing: border-box;top: 0;bottom: 0;left: 50%;z-index: -1;}#sk-container-id-1 div.sk-parallel-item {display: flex;flex-direction: column;z-index: 1;position: relative;background-color: white;}#sk-container-id-1 div.sk-parallel-item:first-child::after {align-self: flex-end;width: 50%;}#sk-container-id-1 div.sk-parallel-item:last-child::after {align-self: flex-start;width: 50%;}#sk-container-id-1 div.sk-parallel-item:only-child::after {width: 0;}#sk-container-id-1 div.sk-dashed-wrapped {border: 1px dashed gray;margin: 0 0.4em 0.5em 0.4em;box-sizing: border-box;padding-bottom: 0.4em;background-color: white;}#sk-container-id-1 div.sk-label label {font-family: monospace;font-weight: bold;display: inline-block;line-height: 1.2em;}#sk-container-id-1 div.sk-label-container {text-align: center;}#sk-container-id-1 div.sk-container {/* jupyter's `normalize.less` sets `[hidden] { display: none; }` but bootstrap.min.css set `[hidden] { display: none !important; }` so we also need the `!important` here to be able to override the default hidden behavior on the sphinx rendered scikit-learn.org. See: https://github.com/scikit-learn/scikit-learn/issues/21755 */display: inline-block !important;position: relative;}#sk-container-id-1 div.sk-text-repr-fallback {display: none;}</style><div id=\"sk-container-id-1\" class=\"sk-top-container\"><div class=\"sk-text-repr-fallback\"><pre>StandardScaler()</pre><b>In a Jupyter environment, please rerun this cell to show the HTML representation or trust the notebook. <br />On GitHub, the HTML representation is unable to render, please try loading this page with nbviewer.org.</b></div><div class=\"sk-container\" hidden><div class=\"sk-item\"><div class=\"sk-estimator sk-toggleable\"><input class=\"sk-toggleable__control sk-hidden--visually\" id=\"sk-estimator-id-1\" type=\"checkbox\" checked><label for=\"sk-estimator-id-1\" class=\"sk-toggleable__label sk-toggleable__label-arrow\">StandardScaler</label><div class=\"sk-toggleable__content\"><pre>StandardScaler()</pre></div></div></div></div></div>"
      ],
      "text/plain": [
       "StandardScaler()"
      ]
     },
     "execution_count": 5,
     "metadata": {},
     "output_type": "execute_result"
    }
   ],
   "source": [
    "train_cost = training[:,-1]\n",
    "scaler = StandardScaler()\n",
    "scaler.fit(train_cost.reshape(-1,1))"
   ]
  },
  {
   "cell_type": "code",
   "execution_count": 3,
   "metadata": {},
   "outputs": [],
   "source": [
    "import pickle\n",
    "# with open('scaler.pkl', 'wb') as file:\n",
    "#     pickle.dump(scaler, file)\n",
    "with open('scaler.pkl', 'rb') as file:\n",
    "    scaler = pickle.load(file)\n"
   ]
  },
  {
   "cell_type": "code",
   "execution_count": 5,
   "metadata": {},
   "outputs": [
    {
     "name": "stdout",
     "output_type": "stream",
     "text": [
      "Epoch 1 - Train Loss: 0.1745, Test Loss: 0.0659\n",
      "Epoch 2 - Train Loss: 0.0516, Test Loss: 0.0558\n",
      "Epoch 3 - Train Loss: 0.0346, Test Loss: 0.0266\n",
      "Epoch 4 - Train Loss: 0.0264, Test Loss: 0.0219\n",
      "Epoch 5 - Train Loss: 0.0214, Test Loss: 0.0194\n",
      "Epoch 6 - Train Loss: 0.0194, Test Loss: 0.0173\n",
      "Epoch 7 - Train Loss: 0.0177, Test Loss: 0.0152\n",
      "Epoch 8 - Train Loss: 0.0164, Test Loss: 0.0180\n",
      "Epoch 9 - Train Loss: 0.0165, Test Loss: 0.0134\n",
      "Epoch 10 - Train Loss: 0.0150, Test Loss: 0.0129\n",
      "Epoch 11 - Train Loss: 0.0153, Test Loss: 0.0134\n",
      "Epoch 12 - Train Loss: 0.0142, Test Loss: 0.0200\n",
      "Epoch 13 - Train Loss: 0.0142, Test Loss: 0.0117\n",
      "Epoch 14 - Train Loss: 0.0139, Test Loss: 0.0236\n",
      "Epoch 15 - Train Loss: 0.0134, Test Loss: 0.0113\n",
      "Epoch 16 - Train Loss: 0.0132, Test Loss: 0.0148\n",
      "Epoch 17 - Train Loss: 0.0132, Test Loss: 0.0131\n",
      "Epoch 18 - Train Loss: 0.0127, Test Loss: 0.0108\n",
      "Epoch 19 - Train Loss: 0.0126, Test Loss: 0.0171\n",
      "Epoch 20 - Train Loss: 0.0120, Test Loss: 0.0128\n",
      "Epoch 21 - Train Loss: 0.0126, Test Loss: 0.0122\n",
      "Epoch 22 - Train Loss: 0.0124, Test Loss: 0.0186\n",
      "Epoch 23 - Train Loss: 0.0118, Test Loss: 0.0113\n",
      "Epoch 24 - Train Loss: 0.0117, Test Loss: 0.0109\n",
      "Epoch 25 - Train Loss: 0.0120, Test Loss: 0.0140\n",
      "Epoch 26 - Train Loss: 0.0117, Test Loss: 0.0120\n",
      "Epoch 27 - Train Loss: 0.0116, Test Loss: 0.0120\n",
      "Epoch 28 - Train Loss: 0.0112, Test Loss: 0.0108\n",
      "Epoch 29 - Train Loss: 0.0116, Test Loss: 0.0164\n",
      "Epoch 30 - Train Loss: 0.0110, Test Loss: 0.0116\n",
      "Epoch 31 - Train Loss: 0.0110, Test Loss: 0.0129\n",
      "Epoch 32 - Train Loss: 0.0108, Test Loss: 0.0106\n",
      "Epoch 33 - Train Loss: 0.0107, Test Loss: 0.0095\n",
      "Epoch 34 - Train Loss: 0.0105, Test Loss: 0.0102\n",
      "Epoch 35 - Train Loss: 0.0105, Test Loss: 0.0103\n",
      "Epoch 36 - Train Loss: 0.0101, Test Loss: 0.0228\n",
      "Epoch 37 - Train Loss: 0.0101, Test Loss: 0.0096\n",
      "Epoch 38 - Train Loss: 0.0105, Test Loss: 0.0102\n",
      "Epoch 39 - Train Loss: 0.0100, Test Loss: 0.0097\n",
      "Epoch 40 - Train Loss: 0.0098, Test Loss: 0.0117\n",
      "Epoch 41 - Train Loss: 0.0099, Test Loss: 0.0121\n",
      "Epoch 42 - Train Loss: 0.0099, Test Loss: 0.0131\n",
      "Epoch 43 - Train Loss: 0.0098, Test Loss: 0.0139\n",
      "Epoch 44 - Train Loss: 0.0097, Test Loss: 0.0106\n",
      "Epoch 45 - Train Loss: 0.0096, Test Loss: 0.0120\n",
      "Epoch 46 - Train Loss: 0.0095, Test Loss: 0.0082\n",
      "Epoch 47 - Train Loss: 0.0094, Test Loss: 0.0097\n",
      "Epoch 48 - Train Loss: 0.0094, Test Loss: 0.0085\n",
      "Epoch 49 - Train Loss: 0.0093, Test Loss: 0.0101\n",
      "Epoch 50 - Train Loss: 0.0094, Test Loss: 0.0094\n",
      "Epoch 51 - Train Loss: 0.0092, Test Loss: 0.0088\n",
      "Epoch 52 - Train Loss: 0.0089, Test Loss: 0.0090\n",
      "Epoch 53 - Train Loss: 0.0095, Test Loss: 0.0087\n",
      "Epoch 54 - Train Loss: 0.0091, Test Loss: 0.0078\n",
      "Epoch 55 - Train Loss: 0.0087, Test Loss: 0.0104\n",
      "Epoch 56 - Train Loss: 0.0089, Test Loss: 0.0084\n",
      "Epoch 57 - Train Loss: 0.0089, Test Loss: 0.0086\n",
      "Epoch 58 - Train Loss: 0.0087, Test Loss: 0.0076\n",
      "Epoch 59 - Train Loss: 0.0089, Test Loss: 0.0102\n",
      "Epoch 60 - Train Loss: 0.0088, Test Loss: 0.0091\n",
      "Epoch 61 - Train Loss: 0.0087, Test Loss: 0.0081\n",
      "Epoch 62 - Train Loss: 0.0089, Test Loss: 0.0076\n",
      "Epoch 63 - Train Loss: 0.0087, Test Loss: 0.0085\n",
      "Epoch 64 - Train Loss: 0.0088, Test Loss: 0.0084\n",
      "Epoch 65 - Train Loss: 0.0086, Test Loss: 0.0086\n",
      "Epoch 66 - Train Loss: 0.0086, Test Loss: 0.0075\n",
      "Epoch 67 - Train Loss: 0.0086, Test Loss: 0.0077\n",
      "Epoch 68 - Train Loss: 0.0083, Test Loss: 0.0075\n",
      "Epoch 69 - Train Loss: 0.0081, Test Loss: 0.0077\n",
      "Epoch 70 - Train Loss: 0.0087, Test Loss: 0.0125\n",
      "Epoch 71 - Train Loss: 0.0082, Test Loss: 0.0073\n",
      "Epoch 72 - Train Loss: 0.0084, Test Loss: 0.0106\n",
      "Epoch 73 - Train Loss: 0.0081, Test Loss: 0.0080\n",
      "Epoch 74 - Train Loss: 0.0085, Test Loss: 0.0087\n",
      "Epoch 75 - Train Loss: 0.0083, Test Loss: 0.0077\n",
      "Epoch 76 - Train Loss: 0.0082, Test Loss: 0.0074\n",
      "Epoch 77 - Train Loss: 0.0081, Test Loss: 0.0073\n",
      "Epoch 78 - Train Loss: 0.0082, Test Loss: 0.0072\n",
      "Epoch 79 - Train Loss: 0.0082, Test Loss: 0.0083\n",
      "Epoch 80 - Train Loss: 0.0081, Test Loss: 0.0096\n",
      "Epoch 81 - Train Loss: 0.0082, Test Loss: 0.0076\n",
      "Epoch 82 - Train Loss: 0.0080, Test Loss: 0.0084\n",
      "Epoch 83 - Train Loss: 0.0082, Test Loss: 0.0078\n",
      "Epoch 84 - Train Loss: 0.0080, Test Loss: 0.0087\n",
      "Epoch 85 - Train Loss: 0.0081, Test Loss: 0.0089\n",
      "Epoch 86 - Train Loss: 0.0080, Test Loss: 0.0093\n",
      "Epoch 87 - Train Loss: 0.0079, Test Loss: 0.0076\n",
      "Epoch 88 - Train Loss: 0.0080, Test Loss: 0.0080\n",
      "Epoch 89 - Train Loss: 0.0079, Test Loss: 0.0082\n",
      "Epoch 90 - Train Loss: 0.0079, Test Loss: 0.0075\n",
      "Epoch 91 - Train Loss: 0.0077, Test Loss: 0.0074\n",
      "Epoch 92 - Train Loss: 0.0078, Test Loss: 0.0072\n",
      "Epoch 93 - Train Loss: 0.0079, Test Loss: 0.0093\n",
      "Epoch 94 - Train Loss: 0.0080, Test Loss: 0.0069\n",
      "Epoch 95 - Train Loss: 0.0078, Test Loss: 0.0071\n",
      "Epoch 96 - Train Loss: 0.0081, Test Loss: 0.0092\n",
      "Epoch 97 - Train Loss: 0.0076, Test Loss: 0.0075\n",
      "Epoch 98 - Train Loss: 0.0078, Test Loss: 0.0092\n",
      "Epoch 99 - Train Loss: 0.0077, Test Loss: 0.0072\n",
      "Epoch 100 - Train Loss: 0.0077, Test Loss: 0.0072\n"
     ]
    }
   ],
   "source": [
    "# train_tensor = norm_scale.transform(torch.from_numpy(np.load('data/large/YZ_Large_70.npz')['data']))\n",
    "# test_tensor = norm_scale.transform(torch.from_numpy(np.load('data/large/YZ_Large_30.npz')['data']))\n",
    "train_loader = DataLoader(AntDataset('data/large/scaled_cost/YZ_Large_70_Cost_Scaled.npz'), batch_size=64, shuffle=True)\n",
    "test_loader = DataLoader(AntDataset('data/large/scaled_cost/YZ_Large_30_Cost_Scaled.npz'), batch_size=64, shuffle=True)\n",
    "device = 'cuda' if torch.cuda.is_available() else 'cpu'\n",
    "model = NN2(2048, 1, 8, 8, nn.ReLU).to(device)\n",
    "lr = 1e-4\n",
    "criterion = nn.MSELoss()\n",
    "optimizer = optim.Adam(model.parameters(), lr = lr)\n",
    "epoch = 100\n",
    "train_loss, test_loss = train_and_evaluate(model, optimizer, criterion, train_loader, test_loader, epoch, device)"
   ]
  },
  {
   "cell_type": "code",
   "execution_count": 6,
   "metadata": {},
   "outputs": [
    {
     "data": {
      "image/png": "[encoded data removed]",
      "text/plain": [
       "<Figure size 640x480 with 1 Axes>"
      ]
     },
     "metadata": {},
     "output_type": "display_data"
    }
   ],
   "source": [
    "plt.plot(train_loss, label = 'Train Loss')\n",
    "plt.plot(test_loss, label = 'Test Loss')\n",
    "plt.legend()\n",
    "plt.show()"
   ]
  },
  {
   "cell_type": "code",
   "execution_count": 7,
   "metadata": {},
   "outputs": [],
   "source": [
    "import torch\n",
    "\n",
    "# Define and train your PyTorch model\n",
    "# ... Train and optimize the model ...\n",
    "\n",
    "# Save the model's state dictionary or the entire model\n",
    "torch.save(model.state_dict(), 'NN2_CostScaled_8_8_ReLU.pth')\n"
   ]
  },
  {
   "cell_type": "code",
   "execution_count": 8,
   "metadata": {},
   "outputs": [],
   "source": [
    "import numpy as np\n",
    "import pandas as pd\n",
    "\n",
    "def process_csv_file(file_path):\n",
    "    # Load the CSV file using pandas\n",
    "    data_frame = pd.read_csv(file_path, header=None)\n",
    "\n",
    "    # Extract the values and reshape into a numpy array\n",
    "    array_data = data_frame.values.reshape(-1)[:1024]\n",
    "\n",
    "    # Create the final numpy array of length 1024, padded with zeros if necessary\n",
    "    final_array = np.zeros(1024)\n",
    "    final_array[:array_data.shape[0]] = array_data\n",
    "\n",
    "    return final_array"
   ]
  },
  {
   "cell_type": "code",
   "execution_count": 12,
   "metadata": {},
   "outputs": [],
   "source": [
    "shape0 = np.hstack((process_csv_file('check_shapes/shape 0/Given Yant0.csv'), process_csv_file('check_shapes/shape 0/Given Zant0.csv')))\n",
    "shape0_opt = np.hstack((process_csv_file('check_shapes/shape 0/Optimized Yant0.csv'), process_csv_file('check_shapes/shape 0/Optimized Zant0.csv')))\n",
    "shape1 = np.hstack((process_csv_file('check_shapes/shape 1/Given Yant1.csv'), process_csv_file('check_shapes/shape 1/Given Zant1.csv')))\n",
    "shape1_opt = np.hstack((process_csv_file('check_shapes/shape 1/Optimized Yant1.csv'), process_csv_file('check_shapes/shape 1/Optimized Zant1.csv')))\n",
    "shape2 = np.hstack((process_csv_file('check_shapes/shape 2/Given Yant2.csv'), process_csv_file('check_shapes/shape 2/Given Zant2.csv')))\n",
    "shape2_opt = np.hstack((process_csv_file('check_shapes/shape 2/Optimized Yant2.csv'), process_csv_file('check_shapes/shape 2/Optimized Zant2.csv')))\n"
   ]
  },
  {
   "cell_type": "code",
   "execution_count": 19,
   "metadata": {},
   "outputs": [],
   "source": [
    "import torch\n",
    "import numpy as np\n",
    "import pickle\n",
    "\n",
    "def pred_shape(model, inp, scale):\n",
    "    inp = torch.from_numpy(inp).float()\n",
    "    out = model(inp).detach().numpy()\n",
    "    return scale.inverse_transform(out.reshape(-1,1)).flatten()\n"
   ]
  },
  {
   "cell_type": "code",
   "execution_count": 31,
   "metadata": {},
   "outputs": [
    {
     "name": "stdout",
     "output_type": "stream",
     "text": [
      "[-12610.568]\n",
      "[-21684.867]\n",
      "[-6103.668]\n",
      "[-17484.727]\n",
      "[-7413.79]\n",
      "[-20402.193]\n"
     ]
    }
   ],
   "source": [
    "print(pred_shape(model, shape0, scaler))\n",
    "print(pred_shape(model, shape0_opt, scaler))\n",
    "print(pred_shape(model, shape1, scaler))\n",
    "print(pred_shape(model, shape1_opt, scaler))\n",
    "print(pred_shape(model, shape2, scaler))\n",
    "print(pred_shape(model, shape2_opt, scaler))"
   ]
  },
  {
   "cell_type": "code",
   "execution_count": 20,
   "metadata": {},
   "outputs": [],
   "source": [
    "def calculate_min_distance(ants, unit = 1):\n",
    "    \"\"\"\n",
    "    Checks the smallest Euclidean distance, if it violates then return True\n",
    "    \"\"\"\n",
    "    reshaped_tensor = torch.reshape(ants, (2, 1024))\n",
    "\n",
    "# Transpose the reshaped tensor\n",
    "    reshaped_tensor = torch.transpose(reshaped_tensor, 0, 1)\n",
    "    nonzero_rows = torch.any(reshaped_tensor != 0, dim=1)\n",
    "    filtered_tensor = reshaped_tensor[nonzero_rows]\n",
    "    distances = torch.cdist(filtered_tensor, filtered_tensor)\n",
    "    distances.fill_diagonal_(float('inf'))\n",
    "    closest_neighbor_distances, _ = torch.min(distances, dim=1)\n",
    "    smallest = torch.min(closest_neighbor_distances)\n",
    "    return smallest.item()\n",
    "    "
   ]
  },
  {
   "cell_type": "code",
   "execution_count": 32,
   "metadata": {},
   "outputs": [],
   "source": [
    "def gradient_wrt_input(model, ants, lr, noise_std, iters):\n",
    "    model.eval()\n",
    "    last = None\n",
    "    for i in range(iters):\n",
    "        if ants.grad is not None:\n",
    "            ants.requires_grad_()\n",
    "            ants.grad.zero_()\n",
    "        output = model(ants)\n",
    "        output.backward()\n",
    "\n",
    "        with torch.no_grad():\n",
    "            last = ants.clone()\n",
    "            noise = torch.rand_like(ants) * noise_std\n",
    "            ants -= (lr * ants.grad * (ants != 0).float())\n",
    "            if calculate_min_distance(ants) < 0.5:\n",
    "                continue\n",
    "        ants.grad.zero_()\n",
    "    return ants\n"
   ]
  },
  {
   "cell_type": "code",
   "execution_count": 22,
   "metadata": {},
   "outputs": [],
   "source": [
    "import matplotlib.pyplot as plt\n",
    "def show_arrays(inp):\n",
    "    data = inp.cpu().detach().numpy()\n",
    "    reshaped_data = np.reshape(data, (2,1024))\n",
    "    x = reshaped_data[0]\n",
    "    y = reshaped_data[1]\n",
    "\n",
    "    nonzero_ind = np.nonzero((x != 0) | (y != 0))\n",
    "    x = x[nonzero_ind]\n",
    "    y = y[nonzero_ind]\n",
    "\n",
    "    plt.scatter(x,y, s=0.75)\n",
    "    plt.xlabel('X')\n",
    "    plt.ylabel('Y')\n",
    "    plt.title('Antenna Array Pattern')\n",
    "    plt.show()"
   ]
  },
  {
   "cell_type": "code",
   "execution_count": 23,
   "metadata": {},
   "outputs": [],
   "source": [
    "given_shapes =  np.zeros((20, 2048))#pd.DataFrame(columns=[f'y{i + 1}' for i in range(1024)] + [f'z{i + 1}' for i in range(1024)])\n",
    "optimized_shapes = np.zeros((20, 2048)) #pd.DataFrame(columns=[f'y{i + 1}' for i in range(1024)] + [f'z{i + 1}' for i in range(1024)])\n",
    "given_shapes_True_cost = []\n",
    "given_shapes_pred_cost = []\n",
    "optimized_shapes_pred_cost = []"
   ]
  },
  {
   "cell_type": "code",
   "execution_count": null,
   "metadata": {},
   "outputs": [],
   "source": [
    "train_loader = DataLoader(AntDataset('data/large/scaled_cost/YZ_Large_70_Cost_Scaled.npz'))\n",
    "i = 0\n",
    "for inp, out in train_loader:\n",
    "    if i == 20:\n",
    "        break\n",
    "\n",
    "    given_shapes_True_cost.append(out.item())\n",
    "    given_shapes[i, :] = inp.flatten().numpy()\n",
    "    inp, out = inp.to(device), out.to(device)\n",
    "\n",
    "    inp_copy = inp.clone()\n",
    "    inp_copy.requires_grad_()\n",
    "    print(f'True Cost: {out}')\n",
    "    show_arrays(inp)\n",
    "    inp.requires_grad_()\n",
    "    pred = model(inp)\n",
    "    given_shapes_pred_cost.append(pred.item())\n",
    "    print(f'Pred Cost: {pred}')\n",
    "    print(calculate_min_distance(inp))\n",
    "    optimized_inp = gradient_wrt_input(model, inp_copy,1e-2,1e-12, 10000)\n",
    "    optimized_shapes[i, :] = optimized_inp.detach().flatten().cpu().numpy()\n",
    "    optimized_inp.to(device)\n",
    "    new_pred = model(optimized_inp)\n",
    "    optimized_shapes_pred_cost.append(new_pred.item())\n",
    "    print(f'New Pred: {new_pred}')\n",
    "    show_arrays(optimized_inp)\n",
    "    print(optimized_inp.shape)\n",
    "    print(calculate_min_distance(optimized_inp))\n",
    "    i += 1"
   ]
  },
  {
   "cell_type": "code",
   "execution_count": 233,
   "metadata": {},
   "outputs": [],
   "source": [
    "columns = [f'y{i + 1}' for i in range(1024)] + [f'z{i + 1}' for i in range(1024)]\n",
    "given_shapes_df = pd.DataFrame(given_shapes, columns=columns)\n",
    "optimized_shapes_df = pd.DataFrame(optimized_shapes, columns=columns)"
   ]
  },
  {
   "cell_type": "code",
   "execution_count": 235,
   "metadata": {},
   "outputs": [],
   "source": [
    "given_shapes_df.to_csv('given_shapes.csv', index = False)\n",
    "optimized_shapes_df.to_csv('optimized_shapes.csv', index = False)"
   ]
  },
  {
   "cell_type": "code",
   "execution_count": 237,
   "metadata": {},
   "outputs": [],
   "source": [
    "given_shapes_true_cost_df = pd.DataFrame({'True Cost': given_shapes_True_cost})\n",
    "given_shapes_pred_cost_df = pd.DataFrame({'Predicted Cost': given_shapes_pred_cost})\n",
    "optimized_shapes_pred_cost_df = pd.DataFrame({'Optimized Predicted Cost': optimized_shapes_pred_cost})"
   ]
  },
  {
   "cell_type": "code",
   "execution_count": 239,
   "metadata": {},
   "outputs": [],
   "source": [
    "given_shapes_pred_cost_df.to_csv('given_shapes_pred_cost.csv', index = False)\n",
    "given_shapes_true_cost_df.to_csv('given_shapes_true_cost.csv', index = False)\n",
    "optimized_shapes_pred_cost_df.to_csv('optimized_shapes_pred_cost.csv', index = False)"
   ]
  },
  {
   "cell_type": "code",
   "execution_count": 4,
   "metadata": {},
   "outputs": [],
   "source": [
    "data = np.load('data/large/large_YZant.npz')['arr_0']"
   ]
  },
  {
   "cell_type": "code",
   "execution_count": 2,
   "metadata": {},
   "outputs": [],
   "source": [
    "small, large = np.load('data/large/scaled_cost/YZ_Large_30_Cost_Scaled.npz')['data'], np.load('data/large/scaled_cost/YZ_Large_70_Cost_Scaled.npz')['data']\n"
   ]
  },
  {
   "cell_type": "code",
   "execution_count": 6,
   "metadata": {},
   "outputs": [],
   "source": [
    "stacked = np.vstack((small, large))"
   ]
  },
  {
   "cell_type": "code",
   "execution_count": 9,
   "metadata": {},
   "outputs": [],
   "source": [
    "indices = np.argsort(stacked[:, -1])\n",
    "best_10 = stacked[indices[:10]]"
   ]
  },
  {
   "cell_type": "code",
   "execution_count": 10,
   "metadata": {},
   "outputs": [
    {
     "data": {
      "text/plain": [
       "array([[-30.64484559, -29.70205211, -28.75925864, ...,   0.        ,\n",
       "          0.        ,  -3.21482132],\n",
       "       [-30.75978435, -29.21376344, -27.66774254, ...,   0.        ,\n",
       "          0.        ,  -3.15755776],\n",
       "       [-31.07106781, -29.65685425, -28.24264069, ...,   0.        ,\n",
       "          0.        ,  -3.13994073],\n",
       "       ...,\n",
       "       [-30.38340047, -28.72046124, -27.05752202, ...,   0.        ,\n",
       "          0.        ,  -3.02542015],\n",
       "       [-30.64484559, -29.70205211, -28.75925864, ...,   0.        ,\n",
       "          0.        ,  -3.02417421],\n",
       "       [-30.38340047, -28.72046124, -27.05752202, ...,   0.        ,\n",
       "          0.        ,  -3.01451864]])"
      ]
     },
     "execution_count": 10,
     "metadata": {},
     "output_type": "execute_result"
    }
   ],
   "source": [
    "best_10"
   ]
  },
  {
   "cell_type": "code",
   "execution_count": 12,
   "metadata": {},
   "outputs": [
    {
     "data": {
      "text/html": [
       "<div>\n",
       "<style scoped>\n",
       "    .dataframe tbody tr th:only-of-type {\n",
       "        vertical-align: middle;\n",
       "    }\n",
       "\n",
       "    .dataframe tbody tr th {\n",
       "        vertical-align: top;\n",
       "    }\n",
       "\n",
       "    .dataframe thead th {\n",
       "        text-align: right;\n",
       "    }\n",
       "</style>\n",
       "<table border=\"1\" class=\"dataframe\">\n",
       "  <thead>\n",
       "    <tr style=\"text-align: right;\">\n",
       "      <th></th>\n",
       "      <th>y1</th>\n",
       "      <th>y2</th>\n",
       "      <th>y3</th>\n",
       "      <th>y4</th>\n",
       "      <th>y5</th>\n",
       "      <th>y6</th>\n",
       "      <th>y7</th>\n",
       "      <th>y8</th>\n",
       "      <th>y9</th>\n",
       "      <th>y10</th>\n",
       "      <th>...</th>\n",
       "      <th>z1016</th>\n",
       "      <th>z1017</th>\n",
       "      <th>z1018</th>\n",
       "      <th>z1019</th>\n",
       "      <th>z1020</th>\n",
       "      <th>z1021</th>\n",
       "      <th>z1022</th>\n",
       "      <th>z1023</th>\n",
       "      <th>z1024</th>\n",
       "      <th>True Cost</th>\n",
       "    </tr>\n",
       "  </thead>\n",
       "  <tbody>\n",
       "    <tr>\n",
       "      <th>0</th>\n",
       "      <td>-30.644846</td>\n",
       "      <td>-29.702052</td>\n",
       "      <td>-28.759259</td>\n",
       "      <td>-30.766590</td>\n",
       "      <td>-29.823797</td>\n",
       "      <td>-28.881003</td>\n",
       "      <td>-27.938210</td>\n",
       "      <td>-26.995416</td>\n",
       "      <td>-26.052623</td>\n",
       "      <td>-29.945541</td>\n",
       "      <td>...</td>\n",
       "      <td>0.0</td>\n",
       "      <td>0.0</td>\n",
       "      <td>0.0</td>\n",
       "      <td>0.0</td>\n",
       "      <td>0.0</td>\n",
       "      <td>0.0</td>\n",
       "      <td>0.0</td>\n",
       "      <td>0.0</td>\n",
       "      <td>0.0</td>\n",
       "      <td>-3.214821</td>\n",
       "    </tr>\n",
       "    <tr>\n",
       "      <th>1</th>\n",
       "      <td>-30.759784</td>\n",
       "      <td>-29.213763</td>\n",
       "      <td>-27.667743</td>\n",
       "      <td>-31.037019</td>\n",
       "      <td>-29.490998</td>\n",
       "      <td>-27.944977</td>\n",
       "      <td>-26.398956</td>\n",
       "      <td>-24.852935</td>\n",
       "      <td>-23.306914</td>\n",
       "      <td>-29.768232</td>\n",
       "      <td>...</td>\n",
       "      <td>0.0</td>\n",
       "      <td>0.0</td>\n",
       "      <td>0.0</td>\n",
       "      <td>0.0</td>\n",
       "      <td>0.0</td>\n",
       "      <td>0.0</td>\n",
       "      <td>0.0</td>\n",
       "      <td>0.0</td>\n",
       "      <td>0.0</td>\n",
       "      <td>-3.157558</td>\n",
       "    </tr>\n",
       "    <tr>\n",
       "      <th>2</th>\n",
       "      <td>-31.071068</td>\n",
       "      <td>-29.656854</td>\n",
       "      <td>-28.242641</td>\n",
       "      <td>-26.828427</td>\n",
       "      <td>-31.071068</td>\n",
       "      <td>-29.656854</td>\n",
       "      <td>-28.242641</td>\n",
       "      <td>-26.828427</td>\n",
       "      <td>-25.414214</td>\n",
       "      <td>-24.000000</td>\n",
       "      <td>...</td>\n",
       "      <td>0.0</td>\n",
       "      <td>0.0</td>\n",
       "      <td>0.0</td>\n",
       "      <td>0.0</td>\n",
       "      <td>0.0</td>\n",
       "      <td>0.0</td>\n",
       "      <td>0.0</td>\n",
       "      <td>0.0</td>\n",
       "      <td>0.0</td>\n",
       "      <td>-3.139941</td>\n",
       "    </tr>\n",
       "    <tr>\n",
       "      <th>3</th>\n",
       "      <td>-30.759784</td>\n",
       "      <td>-29.213763</td>\n",
       "      <td>-27.667743</td>\n",
       "      <td>-31.037019</td>\n",
       "      <td>-29.490998</td>\n",
       "      <td>-27.944977</td>\n",
       "      <td>-26.398956</td>\n",
       "      <td>-24.852935</td>\n",
       "      <td>-23.306914</td>\n",
       "      <td>-29.768232</td>\n",
       "      <td>...</td>\n",
       "      <td>0.0</td>\n",
       "      <td>0.0</td>\n",
       "      <td>0.0</td>\n",
       "      <td>0.0</td>\n",
       "      <td>0.0</td>\n",
       "      <td>0.0</td>\n",
       "      <td>0.0</td>\n",
       "      <td>0.0</td>\n",
       "      <td>0.0</td>\n",
       "      <td>-3.108225</td>\n",
       "    </tr>\n",
       "    <tr>\n",
       "      <th>4</th>\n",
       "      <td>-30.759784</td>\n",
       "      <td>-29.213763</td>\n",
       "      <td>-27.667743</td>\n",
       "      <td>-31.037019</td>\n",
       "      <td>-29.490998</td>\n",
       "      <td>-27.944977</td>\n",
       "      <td>-26.398956</td>\n",
       "      <td>-24.852935</td>\n",
       "      <td>-23.306914</td>\n",
       "      <td>-29.768232</td>\n",
       "      <td>...</td>\n",
       "      <td>0.0</td>\n",
       "      <td>0.0</td>\n",
       "      <td>0.0</td>\n",
       "      <td>0.0</td>\n",
       "      <td>0.0</td>\n",
       "      <td>0.0</td>\n",
       "      <td>0.0</td>\n",
       "      <td>0.0</td>\n",
       "      <td>0.0</td>\n",
       "      <td>-3.103843</td>\n",
       "    </tr>\n",
       "    <tr>\n",
       "      <th>5</th>\n",
       "      <td>-29.945541</td>\n",
       "      <td>-28.181698</td>\n",
       "      <td>-26.417856</td>\n",
       "      <td>-30.766590</td>\n",
       "      <td>-29.002747</td>\n",
       "      <td>-27.238905</td>\n",
       "      <td>-25.475062</td>\n",
       "      <td>-23.711220</td>\n",
       "      <td>-21.947377</td>\n",
       "      <td>-29.823797</td>\n",
       "      <td>...</td>\n",
       "      <td>0.0</td>\n",
       "      <td>0.0</td>\n",
       "      <td>0.0</td>\n",
       "      <td>0.0</td>\n",
       "      <td>0.0</td>\n",
       "      <td>0.0</td>\n",
       "      <td>0.0</td>\n",
       "      <td>0.0</td>\n",
       "      <td>0.0</td>\n",
       "      <td>-3.098636</td>\n",
       "    </tr>\n",
       "    <tr>\n",
       "      <th>6</th>\n",
       "      <td>-30.383400</td>\n",
       "      <td>-28.720461</td>\n",
       "      <td>-27.057522</td>\n",
       "      <td>-30.935199</td>\n",
       "      <td>-29.272260</td>\n",
       "      <td>-27.609321</td>\n",
       "      <td>-25.946382</td>\n",
       "      <td>-24.283442</td>\n",
       "      <td>-22.620503</td>\n",
       "      <td>-29.824059</td>\n",
       "      <td>...</td>\n",
       "      <td>0.0</td>\n",
       "      <td>0.0</td>\n",
       "      <td>0.0</td>\n",
       "      <td>0.0</td>\n",
       "      <td>0.0</td>\n",
       "      <td>0.0</td>\n",
       "      <td>0.0</td>\n",
       "      <td>0.0</td>\n",
       "      <td>0.0</td>\n",
       "      <td>-3.061418</td>\n",
       "    </tr>\n",
       "    <tr>\n",
       "      <th>7</th>\n",
       "      <td>-30.383400</td>\n",
       "      <td>-28.720461</td>\n",
       "      <td>-27.057522</td>\n",
       "      <td>-30.935199</td>\n",
       "      <td>-29.272260</td>\n",
       "      <td>-27.609321</td>\n",
       "      <td>-25.946382</td>\n",
       "      <td>-24.283442</td>\n",
       "      <td>-22.620503</td>\n",
       "      <td>-29.824059</td>\n",
       "      <td>...</td>\n",
       "      <td>0.0</td>\n",
       "      <td>0.0</td>\n",
       "      <td>0.0</td>\n",
       "      <td>0.0</td>\n",
       "      <td>0.0</td>\n",
       "      <td>0.0</td>\n",
       "      <td>0.0</td>\n",
       "      <td>0.0</td>\n",
       "      <td>0.0</td>\n",
       "      <td>-3.025420</td>\n",
       "    </tr>\n",
       "    <tr>\n",
       "      <th>8</th>\n",
       "      <td>-30.644846</td>\n",
       "      <td>-29.702052</td>\n",
       "      <td>-28.759259</td>\n",
       "      <td>-30.766590</td>\n",
       "      <td>-29.823797</td>\n",
       "      <td>-28.881003</td>\n",
       "      <td>-27.938210</td>\n",
       "      <td>-26.995416</td>\n",
       "      <td>-26.052623</td>\n",
       "      <td>-29.945541</td>\n",
       "      <td>...</td>\n",
       "      <td>0.0</td>\n",
       "      <td>0.0</td>\n",
       "      <td>0.0</td>\n",
       "      <td>0.0</td>\n",
       "      <td>0.0</td>\n",
       "      <td>0.0</td>\n",
       "      <td>0.0</td>\n",
       "      <td>0.0</td>\n",
       "      <td>0.0</td>\n",
       "      <td>-3.024174</td>\n",
       "    </tr>\n",
       "    <tr>\n",
       "      <th>9</th>\n",
       "      <td>-30.383400</td>\n",
       "      <td>-28.720461</td>\n",
       "      <td>-27.057522</td>\n",
       "      <td>-30.935199</td>\n",
       "      <td>-29.272260</td>\n",
       "      <td>-27.609321</td>\n",
       "      <td>-25.946382</td>\n",
       "      <td>-24.283442</td>\n",
       "      <td>-22.620503</td>\n",
       "      <td>-29.824059</td>\n",
       "      <td>...</td>\n",
       "      <td>0.0</td>\n",
       "      <td>0.0</td>\n",
       "      <td>0.0</td>\n",
       "      <td>0.0</td>\n",
       "      <td>0.0</td>\n",
       "      <td>0.0</td>\n",
       "      <td>0.0</td>\n",
       "      <td>0.0</td>\n",
       "      <td>0.0</td>\n",
       "      <td>-3.014519</td>\n",
       "    </tr>\n",
       "  </tbody>\n",
       "</table>\n",
       "<p>10 rows × 2049 columns</p>\n",
       "</div>"
      ],
      "text/plain": [
       "          y1         y2         y3         y4         y5         y6  \\\n",
       "0 -30.644846 -29.702052 -28.759259 -30.766590 -29.823797 -28.881003   \n",
       "1 -30.759784 -29.213763 -27.667743 -31.037019 -29.490998 -27.944977   \n",
       "2 -31.071068 -29.656854 -28.242641 -26.828427 -31.071068 -29.656854   \n",
       "3 -30.759784 -29.213763 -27.667743 -31.037019 -29.490998 -27.944977   \n",
       "4 -30.759784 -29.213763 -27.667743 -31.037019 -29.490998 -27.944977   \n",
       "5 -29.945541 -28.181698 -26.417856 -30.766590 -29.002747 -27.238905   \n",
       "6 -30.383400 -28.720461 -27.057522 -30.935199 -29.272260 -27.609321   \n",
       "7 -30.383400 -28.720461 -27.057522 -30.935199 -29.272260 -27.609321   \n",
       "8 -30.644846 -29.702052 -28.759259 -30.766590 -29.823797 -28.881003   \n",
       "9 -30.383400 -28.720461 -27.057522 -30.935199 -29.272260 -27.609321   \n",
       "\n",
       "          y7         y8         y9        y10  ...  z1016  z1017  z1018  \\\n",
       "0 -27.938210 -26.995416 -26.052623 -29.945541  ...    0.0    0.0    0.0   \n",
       "1 -26.398956 -24.852935 -23.306914 -29.768232  ...    0.0    0.0    0.0   \n",
       "2 -28.242641 -26.828427 -25.414214 -24.000000  ...    0.0    0.0    0.0   \n",
       "3 -26.398956 -24.852935 -23.306914 -29.768232  ...    0.0    0.0    0.0   \n",
       "4 -26.398956 -24.852935 -23.306914 -29.768232  ...    0.0    0.0    0.0   \n",
       "5 -25.475062 -23.711220 -21.947377 -29.823797  ...    0.0    0.0    0.0   \n",
       "6 -25.946382 -24.283442 -22.620503 -29.824059  ...    0.0    0.0    0.0   \n",
       "7 -25.946382 -24.283442 -22.620503 -29.824059  ...    0.0    0.0    0.0   \n",
       "8 -27.938210 -26.995416 -26.052623 -29.945541  ...    0.0    0.0    0.0   \n",
       "9 -25.946382 -24.283442 -22.620503 -29.824059  ...    0.0    0.0    0.0   \n",
       "\n",
       "   z1019  z1020  z1021  z1022  z1023  z1024  True Cost  \n",
       "0    0.0    0.0    0.0    0.0    0.0    0.0  -3.214821  \n",
       "1    0.0    0.0    0.0    0.0    0.0    0.0  -3.157558  \n",
       "2    0.0    0.0    0.0    0.0    0.0    0.0  -3.139941  \n",
       "3    0.0    0.0    0.0    0.0    0.0    0.0  -3.108225  \n",
       "4    0.0    0.0    0.0    0.0    0.0    0.0  -3.103843  \n",
       "5    0.0    0.0    0.0    0.0    0.0    0.0  -3.098636  \n",
       "6    0.0    0.0    0.0    0.0    0.0    0.0  -3.061418  \n",
       "7    0.0    0.0    0.0    0.0    0.0    0.0  -3.025420  \n",
       "8    0.0    0.0    0.0    0.0    0.0    0.0  -3.024174  \n",
       "9    0.0    0.0    0.0    0.0    0.0    0.0  -3.014519  \n",
       "\n",
       "[10 rows x 2049 columns]"
      ]
     },
     "execution_count": 12,
     "metadata": {},
     "output_type": "execute_result"
    }
   ],
   "source": [
    "columns = [f'y{i + 1}' for i in range(1024)] + [f'z{i + 1}' for i in range(1024)] + ['True Cost']\n",
    "top_10_arrays = pd.DataFrame(best_10, columns=columns)\n",
    "top_10_arrays"
   ]
  },
  {
   "cell_type": "code",
   "execution_count": 14,
   "metadata": {},
   "outputs": [],
   "source": [
    "top_10_arrays.to_csv('top_10_arrays.csv', index=False)"
   ]
  },
  {
   "cell_type": "code",
   "execution_count": 29,
   "metadata": {},
   "outputs": [
    {
     "data": {
      "text/plain": [
       "NN2(\n",
       "  (regressor): Sequential(\n",
       "    (0): Linear(in_features=2048, out_features=8, bias=True)\n",
       "    (1): ReLU()\n",
       "    (2): Dropout(p=0, inplace=False)\n",
       "    (3): Linear(in_features=8, out_features=8, bias=True)\n",
       "    (4): ReLU()\n",
       "    (5): Dropout(p=0, inplace=False)\n",
       "    (6): Linear(in_features=8, out_features=1, bias=True)\n",
       "  )\n",
       ")"
      ]
     },
     "execution_count": 29,
     "metadata": {},
     "output_type": "execute_result"
    }
   ],
   "source": [
    "# Load model\n",
    "model = NN2(2048, 1, 8, 8, nn.ReLU)\n",
    "model.load_state_dict(torch.load('weights/NN2_CostScaled_8_8_ReLU.pth'))\n",
    "device = 'cuda' if torch.cuda.is_available() else 'cpu'\n",
    "model.to(device)"
   ]
  },
  {
   "cell_type": "code",
   "execution_count": 34,
   "metadata": {},
   "outputs": [],
   "source": [
    "given_shapes =  np.zeros((10, 2048))#pd.DataFrame(columns=[f'y{i + 1}' for i in range(1024)] + [f'z{i + 1}' for i in range(1024)])\n",
    "optimized_shapes = np.zeros((10, 2048)) #pd.DataFrame(columns=[f'y{i + 1}' for i in range(1024)] + [f'z{i + 1}' for i in range(1024)])\n",
    "given_shapes_True_cost = []\n",
    "given_shapes_pred_cost = []\n",
    "optimized_shapes_pred_cost = []"
   ]
  },
  {
   "cell_type": "code",
   "execution_count": 35,
   "metadata": {},
   "outputs": [
    {
     "name": "stdout",
     "output_type": "stream",
     "text": [
      "True Cost: tensor([-3.2148], device='cuda:0')\n",
      "Pred Cost: tensor([[-2.7861]], device='cuda:0', grad_fn=<AddmmBackward0>)\n",
      "New Pred: tensor([[-4.5998]], device='cuda:0', grad_fn=<AddmmBackward0>)\n",
      "True Cost: tensor([-3.1576], device='cuda:0')\n",
      "Pred Cost: tensor([[-2.6941]], device='cuda:0', grad_fn=<AddmmBackward0>)\n",
      "New Pred: tensor([[-3.9437]], device='cuda:0', grad_fn=<AddmmBackward0>)\n",
      "True Cost: tensor([-3.1399], device='cuda:0')\n",
      "Pred Cost: tensor([[-2.7631]], device='cuda:0', grad_fn=<AddmmBackward0>)\n",
      "New Pred: tensor([[-3.7884]], device='cuda:0', grad_fn=<AddmmBackward0>)\n",
      "True Cost: tensor([-3.1082], device='cuda:0')\n",
      "Pred Cost: tensor([[-2.8222]], device='cuda:0', grad_fn=<AddmmBackward0>)\n",
      "New Pred: tensor([[-3.9638]], device='cuda:0', grad_fn=<AddmmBackward0>)\n",
      "True Cost: tensor([-3.1038], device='cuda:0')\n",
      "Pred Cost: tensor([[-2.8985]], device='cuda:0', grad_fn=<AddmmBackward0>)\n",
      "New Pred: tensor([[-4.1084]], device='cuda:0', grad_fn=<AddmmBackward0>)\n",
      "True Cost: tensor([-3.0986], device='cuda:0')\n",
      "Pred Cost: tensor([[-2.7648]], device='cuda:0', grad_fn=<AddmmBackward0>)\n",
      "New Pred: tensor([[-3.8906]], device='cuda:0', grad_fn=<AddmmBackward0>)\n",
      "True Cost: tensor([-3.0614], device='cuda:0')\n",
      "Pred Cost: tensor([[-2.7784]], device='cuda:0', grad_fn=<AddmmBackward0>)\n",
      "New Pred: tensor([[-3.8821]], device='cuda:0', grad_fn=<AddmmBackward0>)\n",
      "True Cost: tensor([-3.0254], device='cuda:0')\n",
      "Pred Cost: tensor([[-2.4675]], device='cuda:0', grad_fn=<AddmmBackward0>)\n",
      "New Pred: tensor([[-4.0319]], device='cuda:0', grad_fn=<AddmmBackward0>)\n",
      "True Cost: tensor([-3.0242], device='cuda:0')\n",
      "Pred Cost: tensor([[-2.7254]], device='cuda:0', grad_fn=<AddmmBackward0>)\n",
      "New Pred: tensor([[-3.7417]], device='cuda:0', grad_fn=<AddmmBackward0>)\n",
      "True Cost: tensor([-3.0145], device='cuda:0')\n",
      "Pred Cost: tensor([[-2.6493]], device='cuda:0', grad_fn=<AddmmBackward0>)\n",
      "New Pred: tensor([[-3.6109]], device='cuda:0', grad_fn=<AddmmBackward0>)\n"
     ]
    }
   ],
   "source": [
    "\n",
    "train_loader = DataLoader(AntDataset(best_10))\n",
    "i = 0\n",
    "for inp, out in train_loader:\n",
    "\n",
    "    given_shapes_True_cost.append(out.item())\n",
    "    given_shapes[i, :] = inp.flatten().numpy()\n",
    "    inp, out = inp.to(device), out.to(device)\n",
    "\n",
    "    inp_copy = inp.clone()\n",
    "    inp_copy.requires_grad_()\n",
    "    print(f'True Cost: {out}')\n",
    "    inp.requires_grad_()\n",
    "    pred = model(inp)\n",
    "    given_shapes_pred_cost.append(pred.item())\n",
    "    print(f'Pred Cost: {pred}')\n",
    "    optimized_inp = gradient_wrt_input(model, inp_copy,1e-2,1e-12, 10000)\n",
    "    optimized_shapes[i, :] = optimized_inp.detach().flatten().cpu().numpy()\n",
    "    optimized_inp.to(device)\n",
    "    new_pred = model(optimized_inp)\n",
    "    optimized_shapes_pred_cost.append(new_pred.item())\n",
    "    print(f'New Pred: {new_pred}')\n",
    "    i += 1"
   ]
  },
  {
   "cell_type": "code",
   "execution_count": null,
   "metadata": {},
   "outputs": [],
   "source": []
  }
 ],
 "metadata": {
  "kernelspec": {
   "display_name": "Python 3.9.16 ('torch')",
   "language": "python",
   "name": "python3"
  },
  "language_info": {
   "codemirror_mode": {
    "name": "ipython",
    "version": 3
   },
   "file_extension": ".py",
   "mimetype": "text/x-python",
   "name": "python",
   "nbconvert_exporter": "python",
   "pygments_lexer": "ipython3",
   "version": "3.9.16"
  },
  "orig_nbformat": 4,
  "vscode": {
   "interpreter": {
    "hash": "9ba32117a522425853f495a8d3e20826e2647e023eb95fff9d9513e406ddf7d2"
   }
  }
 },
 "nbformat": 4,
 "nbformat_minor": 2
}
