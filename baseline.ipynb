{
 "cells": [
  {
   "cell_type": "code",
   "execution_count": 1,
   "metadata": {},
   "outputs": [],
   "source": [
    "import torch\n",
    "import torch.nn as nn\n",
    "import numpy as np\n",
    "import matplotlib.pyplot as plt\n",
    "import time\n",
    "from main import *\n",
    "from torch.utils.data import DataLoader\n",
    "from models.deepsets import *"
   ]
  },
  {
   "cell_type": "code",
   "execution_count": 2,
   "metadata": {},
   "outputs": [],
   "source": [
    "data_1D = DataLoader(AntDataset('data/large/scaled/YZ_Large_testing.npz'))\n",
    "data_2D = DataLoader(AntDataset2D('data/large/scaled/YZ_Large_testing.npz'))"
   ]
  },
  {
   "cell_type": "code",
   "execution_count": 3,
   "metadata": {},
   "outputs": [
    {
     "name": "stdout",
     "output_type": "stream",
     "text": [
      "tensor([-0.1296])\n"
     ]
    }
   ],
   "source": [
    "for i in data_1D:\n",
    "    print(i[1])\n",
    "    break"
   ]
  },
  {
   "cell_type": "code",
   "execution_count": 5,
   "metadata": {},
   "outputs": [
    {
     "name": "stdout",
     "output_type": "stream",
     "text": [
      "NN1\n",
      "Mean: 0.050290584564208984\n",
      "STD: 0.0146992733175466\n",
      "\n",
      "NN2\n",
      "Mean: 0.05852699279785156\n",
      "STD: 0.015308722363402914\n",
      "\n",
      "DeepSet\n",
      "Mean: 0.4764091968536377\n",
      "STD: 0.05850663635241254\n"
     ]
    }
   ],
   "source": [
    "device = 'cuda' if torch.cuda.is_available() else 'cpu'\n",
    "NN1 = SimpleNN(2048, 1, 8, nn.ReLU)\n",
    "NN1.load_state_dict(torch.load('weights/FFNN/1NN_Weight.pt'))\n",
    "\n",
    "NN_2 = NN2(2048, 1, 8, 8, nn.ReLU)\n",
    "NN_2.load_state_dict(torch.load('weights/FFNN/2NN_Weight.pt'))\n",
    "\n",
    "DeepSet = DeepSetRegression(2, 1,1, 'robust_mean', 64)\n",
    "DeepSet.load_state_dict(torch.load('weights/DeepSet/DeepSet_Weight.pt'))\n",
    "\n",
    "NN1_time = []\n",
    "NN2_time = []\n",
    "DeepSet_time = []\n",
    "\n",
    "NN1.eval()\n",
    "NN_2.eval()\n",
    "for i, data in enumerate(data_1D):\n",
    "    if i == 1000:\n",
    "        break\n",
    "    start_time = time.time()\n",
    "    with torch.no_grad():\n",
    "        output = NN1(data[0])\n",
    "    end_time = time.time()\n",
    "    NN1_time.append((end_time - start_time) * 1000)\n",
    "\n",
    "    start_time = time.time()\n",
    "    with torch.no_grad():\n",
    "        output = NN_2(data[0])\n",
    "    end_time = time.time()\n",
    "    NN2_time.append((end_time - start_time) * 1000)\n",
    "\n",
    "DeepSet.eval()\n",
    "for i, data in enumerate(data_2D):\n",
    "    if i == 1000:\n",
    "        break\n",
    "    start_time = time.time()\n",
    "    with torch.no_grad():\n",
    "        output = DeepSet(data[0])\n",
    "    end_time = time.time()\n",
    "    DeepSet_time.append((end_time - start_time) * 1000)\n",
    "\n",
    "print(f\"NN1\\nMean: {np.mean(NN1_time)}\\nSTD: {np.std(NN1_time)}\")\n",
    "print()\n",
    "print(f\"NN2\\nMean: {np.mean(NN2_time)}\\nSTD: {np.std(NN2_time)}\")\n",
    "print()\n",
    "print(f\"DeepSet\\nMean: {np.mean(DeepSet_time)}\\nSTD: {np.std(DeepSet_time)}\")"
   ]
  },
  {
   "cell_type": "code",
   "execution_count": null,
   "metadata": {},
   "outputs": [],
   "source": []
  }
 ],
 "metadata": {
  "kernelspec": {
   "display_name": "torch",
   "language": "python",
   "name": "python3"
  },
  "language_info": {
   "codemirror_mode": {
    "name": "ipython",
    "version": 3
   },
   "file_extension": ".py",
   "mimetype": "text/x-python",
   "name": "python",
   "nbconvert_exporter": "python",
   "pygments_lexer": "ipython3",
   "version": "3.9.16"
  },
  "orig_nbformat": 4
 },
 "nbformat": 4,
 "nbformat_minor": 2
}
