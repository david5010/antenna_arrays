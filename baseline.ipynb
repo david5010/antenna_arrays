{
 "cells": [
  {
   "attachments": {},
   "cell_type": "markdown",
   "metadata": {},
   "source": [
    "## Data:\n",
    "https://we.tl/t-xVMgEzVvNK"
   ]
  },
  {
   "cell_type": "code",
   "execution_count": 2,
   "metadata": {},
   "outputs": [],
   "source": [
    "import torch\n",
    "import torch.nn as nn\n",
    "import torch.optim as optim\n",
    "import numpy as np\n",
    "import pandas as pd"
   ]
  },
  {
   "cell_type": "code",
   "execution_count": 3,
   "metadata": {},
   "outputs": [],
   "source": [
    "class BaseModel(nn.Module):\n",
    "    def __init__(self, input_size, hidden_size, output_size, activation_func) -> None:\n",
    "        super(BaseModel, self).__init__()\n",
    "        self.fc1 = nn.Linear(input_size, hidden_size)\n",
    "        self.act1 = activation_func()\n",
    "        self.fc2 = nn.Linear(hidden_size, output_size)\n",
    "\n",
    "    def forward(self, x):\n",
    "        x = self.fc1(x)\n",
    "        x = self.act1(x)\n",
    "        x = self.fc2(x)\n",
    "        return x"
   ]
  },
  {
   "cell_type": "code",
   "execution_count": 12,
   "metadata": {},
   "outputs": [],
   "source": [
    "# Define training and testing functions\n",
    "def train(model, optimizer, criterion, train_features, train_labels):\n",
    "    model.train()\n",
    "    optimizer.zero_grad()\n",
    "    outputs = model(train_features)\n",
    "    loss = criterion(outputs, train_labels.unsqueeze(1))\n",
    "    loss.backward()\n",
    "    optimizer.step()\n",
    "    return loss.item()\n",
    "\n",
    "def test(model, criterion, test_features, test_labels):\n",
    "    model.eval()\n",
    "    with torch.no_grad():\n",
    "        outputs = model(test_features)\n",
    "        loss = criterion(outputs, test_labels.unsqueeze(1))\n",
    "        accuracy = (outputs.round() == test_labels.unsqueeze(1).round()).float().mean()\n",
    "    return loss.item(), accuracy.item()"
   ]
  },
  {
   "cell_type": "code",
   "execution_count": 2,
   "metadata": {},
   "outputs": [],
   "source": [
    "# Prepare the data\n",
    "train_data = pd.read_csv('data/csv/Standardized/Method_Separate/YZantData_train_standardized_S.csv', header = None).values\n",
    "test_data = pd.read_csv('data/csv/Standardized/Method_Separate/YZantData_test__standardized_S.csv', header = None).values\n",
    "\n",
    "train_features = torch.tensor(train_data[:, :-1], dtype=torch.float32)\n",
    "train_labels = torch.tensor(train_data[:, -1], dtype=torch.float32)\n",
    "test_features = torch.tensor(test_data[:, :-1], dtype=torch.float32)\n",
    "test_labels = torch.tensor(test_data[:, -1], dtype=torch.float32)"
   ]
  },
  {
   "attachments": {},
   "cell_type": "markdown",
   "metadata": {},
   "source": [
    "### ReLU Activation"
   ]
  },
  {
   "cell_type": "code",
   "execution_count": 14,
   "metadata": {},
   "outputs": [
    {
     "name": "stdout",
     "output_type": "stream",
     "text": [
      "{2: 0.07007692009210587, 3: 0.07958769053220749, 4: 0.05941363796591759, 5: 0.06579684466123581, 6: 0.07448595017194748, 7: 0.04692869633436203, 8: 0.046446964144706726, 9: 0.09533820301294327, 10: 0.044119808822870255}\n"
     ]
    }
   ],
   "source": [
    "torch.manual_seed(0)\n",
    "\n",
    "# Set hyperparameters\n",
    "input_size = 2048\n",
    "output_size = 1\n",
    "hidden_sizes = range(2, 11)\n",
    "learning_rate = 0.001\n",
    "num_epochs = 50\n",
    "logs = {x: float('inf') for x in hidden_sizes}\n",
    "# Train and test the model for each hidden layer size\n",
    "for hidden_size in hidden_sizes:\n",
    "    # Create model\n",
    "    model = BaseModel(input_size, hidden_size, output_size, nn.ReLU)\n",
    "\n",
    "    # Define loss function and optimizer\n",
    "    criterion = nn.MSELoss()\n",
    "    optimizer = optim.Adam(model.parameters(), lr=learning_rate)\n",
    "\n",
    "    # Train and test loop\n",
    "    for epoch in range(num_epochs):\n",
    "        train_loss = train(model, optimizer, criterion, train_features, train_labels)\n",
    "        test_loss, accuracy = test(model, criterion, test_features, test_labels)\n",
    "        # print(f'Hidden size: {hidden_size} | Epoch: {epoch+1}/{num_epochs} | Train Loss: {train_loss:.4f} | Test Loss: {test_loss:.4f}')\n",
    "    logs[hidden_size] = test_loss\n",
    "print(logs)\n"
   ]
  },
  {
   "cell_type": "code",
   "execution_count": 15,
   "metadata": {},
   "outputs": [
    {
     "name": "stdout",
     "output_type": "stream",
     "text": [
      "Best # hidden units: 10, Loss: 0.044119808822870255\n"
     ]
    }
   ],
   "source": [
    "best_pair = min(logs.items(), key = lambda x: x[1])\n",
    "print(f\"Best # hidden units: {best_pair[0]}, Loss: {best_pair[1]}\")"
   ]
  },
  {
   "attachments": {},
   "cell_type": "markdown",
   "metadata": {},
   "source": [
    "### Tanh Activation"
   ]
  },
  {
   "cell_type": "code",
   "execution_count": 16,
   "metadata": {},
   "outputs": [
    {
     "name": "stdout",
     "output_type": "stream",
     "text": [
      "{2: 0.20010875165462494, 3: 0.2759758532047272, 4: 0.11935701221227646, 5: 0.1259002834558487, 6: 0.12562038004398346, 7: 0.10401692241430283, 8: 0.10672169923782349, 9: 0.08699073642492294, 10: 0.08746902644634247}\n"
     ]
    }
   ],
   "source": [
    "torch.manual_seed(0)\n",
    "\n",
    "# Set hyperparameters\n",
    "input_size = 2048\n",
    "output_size = 1\n",
    "hidden_sizes = range(2, 11)\n",
    "learning_rate = 0.001\n",
    "num_epochs = 50\n",
    "logs = {x: float('inf') for x in hidden_sizes}\n",
    "# Train and test the model for each hidden layer size\n",
    "for hidden_size in hidden_sizes:\n",
    "    # Create model\n",
    "    model = BaseModel(input_size, hidden_size, output_size, nn.Tanh)\n",
    "\n",
    "    # Define loss function and optimizer\n",
    "    criterion = nn.MSELoss()\n",
    "    optimizer = optim.Adam(model.parameters(), lr=learning_rate)\n",
    "\n",
    "    # Train and test loop\n",
    "    for epoch in range(num_epochs):\n",
    "        train_loss = train(model, optimizer, criterion, train_features, train_labels)\n",
    "        test_loss, accuracy = test(model, criterion, test_features, test_labels)\n",
    "        # print(f'Hidden size: {hidden_size} | Epoch: {epoch+1}/{num_epochs} | Train Loss: {train_loss:.4f} | Test Loss: {test_loss:.4f}')\n",
    "    logs[hidden_size] = test_loss\n",
    "print(logs)\n"
   ]
  },
  {
   "cell_type": "code",
   "execution_count": 17,
   "metadata": {},
   "outputs": [
    {
     "name": "stdout",
     "output_type": "stream",
     "text": [
      "Best # hidden units: 9, Loss: 0.08699073642492294\n"
     ]
    }
   ],
   "source": [
    "best_pair = min(logs.items(), key = lambda x: x[1])\n",
    "print(f\"Best # hidden units: {best_pair[0]}, Loss: {best_pair[1]}\")"
   ]
  },
  {
   "attachments": {},
   "cell_type": "markdown",
   "metadata": {},
   "source": [
    "### Sigmoid Activation"
   ]
  },
  {
   "cell_type": "code",
   "execution_count": 18,
   "metadata": {},
   "outputs": [
    {
     "name": "stdout",
     "output_type": "stream",
     "text": [
      "{2: 0.4827256500720978, 3: 0.7482969164848328, 4: 0.33711734414100647, 5: 0.3607424199581146, 6: 0.5330573916435242, 7: 0.3620279133319855, 8: 0.2802615463733673, 9: 0.49742820858955383, 10: 0.35850685834884644}\n"
     ]
    }
   ],
   "source": [
    "torch.manual_seed(0)\n",
    "\n",
    "# Set hyperparameters\n",
    "input_size = 2048\n",
    "output_size = 1\n",
    "hidden_sizes = range(2, 11)\n",
    "learning_rate = 0.001\n",
    "num_epochs = 50\n",
    "logs = {x: float('inf') for x in hidden_sizes}\n",
    "# Train and test the model for each hidden layer size\n",
    "for hidden_size in hidden_sizes:\n",
    "    # Create model\n",
    "    model = BaseModel(input_size, hidden_size, output_size, nn.Sigmoid)\n",
    "\n",
    "    # Define loss function and optimizer\n",
    "    criterion = nn.MSELoss()\n",
    "    optimizer = optim.Adam(model.parameters(), lr=learning_rate)\n",
    "\n",
    "    # Train and test loop\n",
    "    for epoch in range(num_epochs):\n",
    "        train_loss = train(model, optimizer, criterion, train_features, train_labels)\n",
    "        test_loss, accuracy = test(model, criterion, test_features, test_labels)\n",
    "        # print(f'Hidden size: {hidden_size} | Epoch: {epoch+1}/{num_epochs} | Train Loss: {train_loss:.4f} | Test Loss: {test_loss:.4f}')\n",
    "    logs[hidden_size] = test_loss\n",
    "print(logs)\n"
   ]
  },
  {
   "cell_type": "code",
   "execution_count": 19,
   "metadata": {},
   "outputs": [
    {
     "name": "stdout",
     "output_type": "stream",
     "text": [
      "Best # hidden units: 8, Loss: 0.2802615463733673\n"
     ]
    }
   ],
   "source": [
    "best_pair = min(logs.items(), key = lambda x: x[1])\n",
    "print(f\"Best # hidden units: {best_pair[0]}, Loss: {best_pair[1]}\")"
   ]
  },
  {
   "cell_type": "code",
   "execution_count": 3,
   "metadata": {},
   "outputs": [],
   "source": [
    "class LinearRegression(nn.Module):\n",
    "    def __init__(self, input_size) -> None:\n",
    "        super(LinearRegression, self).__init__()\n",
    "        self.linear = nn.Linear(input_size, 1)\n",
    "\n",
    "    def forward(self, x):\n",
    "        output = self.linear(x)\n",
    "        return output"
   ]
  },
  {
   "cell_type": "code",
   "execution_count": 6,
   "metadata": {},
   "outputs": [
    {
     "name": "stdout",
     "output_type": "stream",
     "text": [
      "Mean Squared Error: 0.9768\n"
     ]
    }
   ],
   "source": [
    "torch.manual_seed(0)\n",
    "\n",
    "# Set hyperparameters\n",
    "input_size = 2048\n",
    "learning_rate = 0.001\n",
    "num_epochs = 50\n",
    "# Train and test the model for each hidden layer size\n",
    "model = LinearRegression(input_size)\n",
    "criterion = nn.MSELoss()\n",
    "optimizer = optim.Adam(model.parameters(), lr = learning_rate)\n",
    "\n",
    "best_loss = float('inf')\n",
    "\n",
    "# Training Loop\n",
    "for epoch in range(num_epochs):\n",
    "    outputs = model(train_features)\n",
    "    loss = criterion(outputs, train_labels)\n",
    "\n",
    "    optimizer.zero_grad()\n",
    "    loss.backward()\n",
    "    optimizer.step()\n",
    "\n",
    "# Testing\n",
    "with torch.no_grad():\n",
    "    predicted = model(test_features)\n",
    "    mse = criterion(predicted, test_labels)\n",
    "    print('Mean Squared Error: {:.4f}'.format(mse.item()))\n"
   ]
  },
  {
   "cell_type": "code",
   "execution_count": 4,
   "metadata": {},
   "outputs": [
    {
     "data": {
      "text/plain": [
       "tensor([[-0.8508,  0.6654,  1.6350,  0.5101, -0.5371, -0.9307],\n",
       "        [ 0.1948,  0.5003,  0.5357,  1.6544, -2.5883, -0.1079],\n",
       "        [-0.2882, -0.9897, -1.3023,  1.1497, -0.9711, -0.5019],\n",
       "        [-0.7495,  1.2456, -1.3996,  0.9254, -1.3488, -0.6137],\n",
       "        [ 0.6038, -2.2354,  0.0767,  0.0882,  0.7211, -2.1989],\n",
       "        [-1.4052,  0.1247, -1.7167,  0.1136, -1.1117,  1.4111],\n",
       "        [-1.0359,  0.4473, -0.0682, -0.2574,  0.7158,  0.6317],\n",
       "        [ 0.2853, -0.5111,  0.1313,  0.1877,  0.8389, -0.5768],\n",
       "        [-0.7704,  0.0786, -1.7252,  2.1686, -1.6540, -0.6542]])"
      ]
     },
     "execution_count": 4,
     "metadata": {},
     "output_type": "execute_result"
    }
   ],
   "source": [
    "example = torch.randn(9,6)\n",
    "example"
   ]
  },
  {
   "cell_type": "code",
   "execution_count": 5,
   "metadata": {},
   "outputs": [
    {
     "data": {
      "text/plain": [
       "tensor([[[-0.8508,  0.6654,  1.6350],\n",
       "         [ 0.5101, -0.5371, -0.9307]],\n",
       "\n",
       "        [[ 0.1948,  0.5003,  0.5357],\n",
       "         [ 1.6544, -2.5883, -0.1079]],\n",
       "\n",
       "        [[-0.2882, -0.9897, -1.3023],\n",
       "         [ 1.1497, -0.9711, -0.5019]],\n",
       "\n",
       "        [[-0.7495,  1.2456, -1.3996],\n",
       "         [ 0.9254, -1.3488, -0.6137]],\n",
       "\n",
       "        [[ 0.6038, -2.2354,  0.0767],\n",
       "         [ 0.0882,  0.7211, -2.1989]],\n",
       "\n",
       "        [[-1.4052,  0.1247, -1.7167],\n",
       "         [ 0.1136, -1.1117,  1.4111]],\n",
       "\n",
       "        [[-1.0359,  0.4473, -0.0682],\n",
       "         [-0.2574,  0.7158,  0.6317]],\n",
       "\n",
       "        [[ 0.2853, -0.5111,  0.1313],\n",
       "         [ 0.1877,  0.8389, -0.5768]],\n",
       "\n",
       "        [[-0.7704,  0.0786, -1.7252],\n",
       "         [ 2.1686, -1.6540, -0.6542]]])"
      ]
     },
     "execution_count": 5,
     "metadata": {},
     "output_type": "execute_result"
    }
   ],
   "source": [
    "example.reshape(9,2,3)"
   ]
  },
  {
   "cell_type": "code",
   "execution_count": null,
   "metadata": {},
   "outputs": [],
   "source": []
  }
 ],
 "metadata": {
  "kernelspec": {
   "display_name": "torch",
   "language": "python",
   "name": "python3"
  },
  "language_info": {
   "codemirror_mode": {
    "name": "ipython",
    "version": 3
   },
   "file_extension": ".py",
   "mimetype": "text/x-python",
   "name": "python",
   "nbconvert_exporter": "python",
   "pygments_lexer": "ipython3",
   "version": "3.9.16"
  },
  "orig_nbformat": 4
 },
 "nbformat": 4,
 "nbformat_minor": 2
}
