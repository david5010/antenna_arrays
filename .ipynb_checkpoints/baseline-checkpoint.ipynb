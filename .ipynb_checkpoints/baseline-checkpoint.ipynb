{
 "cells": [
  {
   "cell_type": "markdown",
   "metadata": {},
   "source": [
    "## Data:\n",
    "https://we.tl/t-xVMgEzVvNK"
   ]
  },
  {
   "cell_type": "code",
   "execution_count": 1,
   "metadata": {},
   "outputs": [
    {
     "name": "stdout",
     "output_type": "stream",
     "text": [
      "Found 1 available GPU(s):\n",
      "GPU 0: NVIDIA RTX A4000\n"
     ]
    }
   ],
   "source": [
    "import torch\n",
    "\n",
    "if torch.cuda.is_available():\n",
    "    device_count = torch.cuda.device_count()\n",
    "    print(f\"Found {device_count} available GPU(s):\")\n",
    "    for i in range(device_count):\n",
    "        device_name = torch.cuda.get_device_name(i)\n",
    "        print(f\"GPU {i}: {device_name}\")\n",
    "else:\n",
    "    print(\"No GPU(s) available.\")\n"
   ]
  },
  {
   "cell_type": "code",
   "execution_count": 2,
   "metadata": {},
   "outputs": [
    {
     "ename": "NameError",
     "evalue": "name 'x' is not defined",
     "output_type": "error",
     "traceback": [
      "\u001b[0;31m---------------------------------------------------------------------------\u001b[0m",
      "\u001b[0;31mNameError\u001b[0m                                 Traceback (most recent call last)",
      "Cell \u001b[0;32mIn[2], line 1\u001b[0m\n\u001b[0;32m----> 1\u001b[0m x_gpu \u001b[38;5;241m=\u001b[39m \u001b[43mx\u001b[49m\u001b[38;5;241m.\u001b[39mcuda()\n",
      "\u001b[0;31mNameError\u001b[0m: name 'x' is not defined"
     ]
    }
   ],
   "source": [
    "x_gpu = x.cuda()\n"
   ]
  },
  {
   "cell_type": "code",
   "execution_count": null,
   "metadata": {},
   "outputs": [],
   "source": [
    "import torch\n",
    "import torch.nn as nn\n",
    "import torch.optim as optim\n",
    "import numpy as np\n",
    "import pandas as pd"
   ]
  },
  {
   "cell_type": "code",
   "execution_count": null,
   "metadata": {},
   "outputs": [],
   "source": [
    "class BaseModel(nn.Module):\n",
    "    def __init__(self, input_size, hidden_size, output_size, activation_func) -> None:\n",
    "        super(BaseModel, self).__init__()\n",
    "        self.fc1 = nn.Linear(input_size, hidden_size)\n",
    "        self.act1 = activation_func()\n",
    "        self.fc2 = nn.Linear(hidden_size, output_size)\n",
    "\n",
    "    def forward(self, x):\n",
    "        x = self.fc1(x)\n",
    "        x = self.act1(x)\n",
    "        x = self.fc2(x)\n",
    "        return x"
   ]
  },
  {
   "cell_type": "code",
   "execution_count": null,
   "metadata": {},
   "outputs": [],
   "source": [
    "# Define training and testing functions\n",
    "def train(model, optimizer, criterion, train_features, train_labels):\n",
    "    model.train()\n",
    "    optimizer.zero_grad()\n",
    "    outputs = model(train_features)\n",
    "    loss = criterion(outputs, train_labels.unsqueeze(1))\n",
    "    loss.backward()\n",
    "    optimizer.step()\n",
    "    return loss.item()\n",
    "\n",
    "def test(model, criterion, test_features, test_labels):\n",
    "    model.eval()\n",
    "    with torch.no_grad():\n",
    "        outputs = model(test_features)\n",
    "        loss = criterion(outputs, test_labels.unsqueeze(1))\n",
    "        accuracy = (outputs.round() == test_labels.unsqueeze(1).round()).float().mean()\n",
    "    return loss.item(), accuracy.item()"
   ]
  },
  {
   "cell_type": "code",
   "execution_count": null,
   "metadata": {},
   "outputs": [],
   "source": [
    "# Prepare the data\n",
    "train_data = pd.read_csv('data/csv/Standardized/Method_Separate/YZantData_train_standardized_S.csv', header = None).values\n",
    "test_data = pd.read_csv('data/csv/Standardized/Method_Separate/YZantData_test__standardized_S.csv', header = None).values\n",
    "\n",
    "train_features = torch.tensor(train_data[:, :-1], dtype=torch.float32)\n",
    "train_labels = torch.tensor(train_data[:, -1], dtype=torch.float32)\n",
    "test_features = torch.tensor(test_data[:, :-1], dtype=torch.float32)\n",
    "test_labels = torch.tensor(test_data[:, -1], dtype=torch.float32)"
   ]
  },
  {
   "cell_type": "markdown",
   "metadata": {},
   "source": [
    "### ReLU Activation"
   ]
  },
  {
   "cell_type": "code",
   "execution_count": null,
   "metadata": {},
   "outputs": [],
   "source": [
    "torch.manual_seed(0)\n",
    "\n",
    "# Set hyperparameters\n",
    "input_size = 2048\n",
    "output_size = 1\n",
    "hidden_sizes = range(2, 11)\n",
    "learning_rate = 0.001\n",
    "num_epochs = 50\n",
    "logs = {x: float('inf') for x in hidden_sizes}\n",
    "# Train and test the model for each hidden layer size\n",
    "for hidden_size in hidden_sizes:\n",
    "    # Create model\n",
    "    model = BaseModel(input_size, hidden_size, output_size, nn.ReLU)\n",
    "\n",
    "    # Define loss function and optimizer\n",
    "    criterion = nn.MSELoss()\n",
    "    optimizer = optim.Adam(model.parameters(), lr=learning_rate)\n",
    "\n",
    "    # Train and test loop\n",
    "    for epoch in range(num_epochs):\n",
    "        train_loss = train(model, optimizer, criterion, train_features, train_labels)\n",
    "        test_loss, accuracy = test(model, criterion, test_features, test_labels)\n",
    "        # print(f'Hidden size: {hidden_size} | Epoch: {epoch+1}/{num_epochs} | Train Loss: {train_loss:.4f} | Test Loss: {test_loss:.4f}')\n",
    "    logs[hidden_size] = test_loss\n",
    "print(logs)\n"
   ]
  },
  {
   "cell_type": "code",
   "execution_count": null,
   "metadata": {},
   "outputs": [],
   "source": [
    "best_pair = min(logs.items(), key = lambda x: x[1])\n",
    "print(f\"Best # hidden units: {best_pair[0]}, Loss: {best_pair[1]}\")"
   ]
  },
  {
   "cell_type": "markdown",
   "metadata": {},
   "source": [
    "### Tanh Activation"
   ]
  },
  {
   "cell_type": "code",
   "execution_count": null,
   "metadata": {},
   "outputs": [],
   "source": [
    "torch.manual_seed(0)\n",
    "\n",
    "# Set hyperparameters\n",
    "input_size = 2048\n",
    "output_size = 1\n",
    "hidden_sizes = range(2, 11)\n",
    "learning_rate = 0.001\n",
    "num_epochs = 50\n",
    "logs = {x: float('inf') for x in hidden_sizes}\n",
    "# Train and test the model for each hidden layer size\n",
    "for hidden_size in hidden_sizes:\n",
    "    # Create model\n",
    "    model = BaseModel(input_size, hidden_size, output_size, nn.Tanh)\n",
    "\n",
    "    # Define loss function and optimizer\n",
    "    criterion = nn.MSELoss()\n",
    "    optimizer = optim.Adam(model.parameters(), lr=learning_rate)\n",
    "\n",
    "    # Train and test loop\n",
    "    for epoch in range(num_epochs):\n",
    "        train_loss = train(model, optimizer, criterion, train_features, train_labels)\n",
    "        test_loss, accuracy = test(model, criterion, test_features, test_labels)\n",
    "        # print(f'Hidden size: {hidden_size} | Epoch: {epoch+1}/{num_epochs} | Train Loss: {train_loss:.4f} | Test Loss: {test_loss:.4f}')\n",
    "    logs[hidden_size] = test_loss\n",
    "print(logs)\n"
   ]
  },
  {
   "cell_type": "code",
   "execution_count": null,
   "metadata": {},
   "outputs": [],
   "source": [
    "best_pair = min(logs.items(), key = lambda x: x[1])\n",
    "print(f\"Best # hidden units: {best_pair[0]}, Loss: {best_pair[1]}\")"
   ]
  },
  {
   "cell_type": "markdown",
   "metadata": {},
   "source": [
    "### Sigmoid Activation"
   ]
  },
  {
   "cell_type": "code",
   "execution_count": null,
   "metadata": {},
   "outputs": [],
   "source": [
    "torch.manual_seed(0)\n",
    "\n",
    "# Set hyperparameters\n",
    "input_size = 2048\n",
    "output_size = 1\n",
    "hidden_sizes = range(2, 11)\n",
    "learning_rate = 0.001\n",
    "num_epochs = 50\n",
    "logs = {x: float('inf') for x in hidden_sizes}\n",
    "# Train and test the model for each hidden layer size\n",
    "for hidden_size in hidden_sizes:\n",
    "    # Create model\n",
    "    model = BaseModel(input_size, hidden_size, output_size, nn.Sigmoid)\n",
    "\n",
    "    # Define loss function and optimizer\n",
    "    criterion = nn.MSELoss()\n",
    "    optimizer = optim.Adam(model.parameters(), lr=learning_rate)\n",
    "\n",
    "    # Train and test loop\n",
    "    for epoch in range(num_epochs):\n",
    "        train_loss = train(model, optimizer, criterion, train_features, train_labels)\n",
    "        test_loss, accuracy = test(model, criterion, test_features, test_labels)\n",
    "        # print(f'Hidden size: {hidden_size} | Epoch: {epoch+1}/{num_epochs} | Train Loss: {train_loss:.4f} | Test Loss: {test_loss:.4f}')\n",
    "    logs[hidden_size] = test_loss\n",
    "print(logs)\n"
   ]
  },
  {
   "cell_type": "code",
   "execution_count": null,
   "metadata": {},
   "outputs": [],
   "source": [
    "best_pair = min(logs.items(), key = lambda x: x[1])\n",
    "print(f\"Best # hidden units: {best_pair[0]}, Loss: {best_pair[1]}\")"
   ]
  },
  {
   "cell_type": "code",
   "execution_count": null,
   "metadata": {},
   "outputs": [],
   "source": [
    "class LinearRegression(nn.Module):\n",
    "    def __init__(self, input_size) -> None:\n",
    "        super(LinearRegression, self).__init__()\n",
    "        self.linear = nn.Linear(input_size, 1)\n",
    "\n",
    "    def forward(self, x):\n",
    "        output = self.linear(x)\n",
    "        return output"
   ]
  },
  {
   "cell_type": "code",
   "execution_count": null,
   "metadata": {},
   "outputs": [],
   "source": [
    "torch.manual_seed(0)\n",
    "\n",
    "# Set hyperparameters\n",
    "input_size = 2048\n",
    "learning_rate = 0.001\n",
    "num_epochs = 50\n",
    "# Train and test the model for each hidden layer size\n",
    "model = LinearRegression(input_size)\n",
    "criterion = nn.MSELoss()\n",
    "optimizer = optim.Adam(model.parameters(), lr = learning_rate)\n",
    "\n",
    "best_loss = float('inf')\n",
    "\n",
    "# Training Loop\n",
    "for epoch in range(num_epochs):\n",
    "    outputs = model(train_features)\n",
    "    loss = criterion(outputs, train_labels)\n",
    "\n",
    "    optimizer.zero_grad()\n",
    "    loss.backward()\n",
    "    optimizer.step()\n",
    "\n",
    "# Testing\n",
    "with torch.no_grad():\n",
    "    predicted = model(test_features)\n",
    "    mse = criterion(predicted, test_labels)\n",
    "    print('Mean Squared Error: {:.4f}'.format(mse.item()))\n"
   ]
  },
  {
   "cell_type": "code",
   "execution_count": null,
   "metadata": {},
   "outputs": [],
   "source": [
    "example = torch.randn(9,6)\n",
    "example"
   ]
  },
  {
   "cell_type": "code",
   "execution_count": null,
   "metadata": {},
   "outputs": [],
   "source": [
    "example.reshape(9,2,3)"
   ]
  },
  {
   "cell_type": "code",
   "execution_count": null,
   "metadata": {},
   "outputs": [],
   "source": []
  }
 ],
 "metadata": {
  "kernelspec": {
   "display_name": "Python 3 (ipykernel)",
   "language": "python",
   "name": "python3"
  },
  "language_info": {
   "codemirror_mode": {
    "name": "ipython",
    "version": 3
   },
   "file_extension": ".py",
   "mimetype": "text/x-python",
   "name": "python",
   "nbconvert_exporter": "python",
   "pygments_lexer": "ipython3",
   "version": "3.9.16"
  },
  "vscode": {
   "interpreter": {
    "hash": "9ba32117a522425853f495a8d3e20826e2647e023eb95fff9d9513e406ddf7d2"
   }
  }
 },
 "nbformat": 4,
 "nbformat_minor": 2
}
